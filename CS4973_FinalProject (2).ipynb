{
  "cells": [
    {
      "cell_type": "markdown",
      "metadata": {
        "id": "gyc0JFGAdKYw"
      },
      "source": [
        "# **CS4973 Final Project**"
      ]
    },
    {
      "cell_type": "markdown",
      "metadata": {
        "id": "X8O8RMSlpS0S"
      },
      "source": [
        "## **Importing Libraries**"
      ]
    },
    {
      "cell_type": "code",
      "source": [
        "pip install aequitas"
      ],
      "metadata": {
        "colab": {
          "base_uri": "https://localhost:8080/"
        },
        "id": "ZwBdti5VGa-j",
        "outputId": "ddd1a27b-7f23-4818-efdd-82042a2ebb48"
      },
      "execution_count": null,
      "outputs": [
        {
          "output_type": "stream",
          "name": "stdout",
          "text": [
            "Collecting aequitas\n",
            "  Downloading aequitas-0.42.0-py3-none-any.whl (2.2 MB)\n",
            "\u001b[2K     \u001b[90m━━━━━━━━━━━━━━━━━━━━━━━━━━━━━━━━━━━━━━━━\u001b[0m \u001b[32m2.2/2.2 MB\u001b[0m \u001b[31m9.0 MB/s\u001b[0m eta \u001b[36m0:00:00\u001b[0m\n",
            "\u001b[?25hCollecting ohio>=0.2.0 (from aequitas)\n",
            "  Downloading ohio-0.5.0-py3-none-any.whl (26 kB)\n",
            "Collecting Flask==0.12.2 (from aequitas)\n",
            "  Downloading Flask-0.12.2-py2.py3-none-any.whl (83 kB)\n",
            "\u001b[2K     \u001b[90m━━━━━━━━━━━━━━━━━━━━━━━━━━━━━━━━━━━━━━━━\u001b[0m \u001b[32m83.0/83.0 kB\u001b[0m \u001b[31m9.8 MB/s\u001b[0m eta \u001b[36m0:00:00\u001b[0m\n",
            "\u001b[?25hCollecting Flask-Bootstrap==3.3.7.1 (from aequitas)\n",
            "  Downloading Flask-Bootstrap-3.3.7.1.tar.gz (456 kB)\n",
            "\u001b[2K     \u001b[90m━━━━━━━━━━━━━━━━━━━━━━━━━━━━━━━━━━━━━━━━\u001b[0m \u001b[32m456.4/456.4 kB\u001b[0m \u001b[31m15.9 MB/s\u001b[0m eta \u001b[36m0:00:00\u001b[0m\n",
            "\u001b[?25h  Preparing metadata (setup.py) ... \u001b[?25l\u001b[?25hdone\n",
            "Collecting markdown2==2.3.5 (from aequitas)\n",
            "  Downloading markdown2-2.3.5.zip (161 kB)\n",
            "\u001b[2K     \u001b[90m━━━━━━━━━━━━━━━━━━━━━━━━━━━━━━━━━━━━━━━━\u001b[0m \u001b[32m161.9/161.9 kB\u001b[0m \u001b[31m17.4 MB/s\u001b[0m eta \u001b[36m0:00:00\u001b[0m\n",
            "\u001b[?25h  Preparing metadata (setup.py) ... \u001b[?25l\u001b[?25hdone\n",
            "Requirement already satisfied: matplotlib>=3.0.3 in /usr/local/lib/python3.10/dist-packages (from aequitas) (3.7.1)\n",
            "Requirement already satisfied: pandas>=0.24.1 in /usr/local/lib/python3.10/dist-packages (from aequitas) (1.5.3)\n",
            "Requirement already satisfied: pyyaml>=5.1 in /usr/local/lib/python3.10/dist-packages (from aequitas) (6.0.1)\n",
            "Requirement already satisfied: SQLAlchemy>=1.1.1 in /usr/local/lib/python3.10/dist-packages (from aequitas) (2.0.23)\n",
            "Collecting tabulate==0.8.2 (from aequitas)\n",
            "  Downloading tabulate-0.8.2.tar.gz (45 kB)\n",
            "\u001b[2K     \u001b[90m━━━━━━━━━━━━━━━━━━━━━━━━━━━━━━━━━━━━━━━━\u001b[0m \u001b[32m45.8/45.8 kB\u001b[0m \u001b[31m5.1 MB/s\u001b[0m eta \u001b[36m0:00:00\u001b[0m\n",
            "\u001b[?25h  Preparing metadata (setup.py) ... \u001b[?25l\u001b[?25hdone\n",
            "Collecting xhtml2pdf==0.2.2 (from aequitas)\n",
            "  Downloading xhtml2pdf-0.2.2.tar.gz (97 kB)\n",
            "\u001b[2K     \u001b[90m━━━━━━━━━━━━━━━━━━━━━━━━━━━━━━━━━━━━━━━━\u001b[0m \u001b[32m97.3/97.3 kB\u001b[0m \u001b[31m11.3 MB/s\u001b[0m eta \u001b[36m0:00:00\u001b[0m\n",
            "\u001b[?25h  Preparing metadata (setup.py) ... \u001b[?25l\u001b[?25hdone\n",
            "Requirement already satisfied: seaborn>=0.9.0 in /usr/local/lib/python3.10/dist-packages (from aequitas) (0.12.2)\n",
            "Collecting altair==4.1.0 (from aequitas)\n",
            "  Downloading altair-4.1.0-py3-none-any.whl (727 kB)\n",
            "\u001b[2K     \u001b[90m━━━━━━━━━━━━━━━━━━━━━━━━━━━━━━━━━━━━━━━━\u001b[0m \u001b[32m727.8/727.8 kB\u001b[0m \u001b[31m17.2 MB/s\u001b[0m eta \u001b[36m0:00:00\u001b[0m\n",
            "\u001b[?25hCollecting millify==0.1.1 (from aequitas)\n",
            "  Downloading millify-0.1.1.tar.gz (1.2 kB)\n",
            "  Preparing metadata (setup.py) ... \u001b[?25l\u001b[?25hdone\n",
            "Requirement already satisfied: entrypoints in /usr/local/lib/python3.10/dist-packages (from altair==4.1.0->aequitas) (0.4)\n",
            "Requirement already satisfied: jinja2 in /usr/local/lib/python3.10/dist-packages (from altair==4.1.0->aequitas) (3.1.2)\n",
            "Requirement already satisfied: jsonschema in /usr/local/lib/python3.10/dist-packages (from altair==4.1.0->aequitas) (4.19.2)\n",
            "Requirement already satisfied: numpy in /usr/local/lib/python3.10/dist-packages (from altair==4.1.0->aequitas) (1.23.5)\n",
            "Requirement already satisfied: toolz in /usr/local/lib/python3.10/dist-packages (from altair==4.1.0->aequitas) (0.12.0)\n",
            "Requirement already satisfied: Werkzeug>=0.7 in /usr/local/lib/python3.10/dist-packages (from Flask==0.12.2->aequitas) (3.0.1)\n",
            "Requirement already satisfied: click>=2.0 in /usr/local/lib/python3.10/dist-packages (from Flask==0.12.2->aequitas) (8.1.7)\n",
            "Requirement already satisfied: itsdangerous>=0.21 in /usr/local/lib/python3.10/dist-packages (from Flask==0.12.2->aequitas) (2.1.2)\n",
            "Collecting dominate (from Flask-Bootstrap==3.3.7.1->aequitas)\n",
            "  Downloading dominate-2.9.0-py2.py3-none-any.whl (29 kB)\n",
            "Collecting visitor (from Flask-Bootstrap==3.3.7.1->aequitas)\n",
            "  Downloading visitor-0.1.3.tar.gz (3.3 kB)\n",
            "  Preparing metadata (setup.py) ... \u001b[?25l\u001b[?25hdone\n",
            "Requirement already satisfied: html5lib>=1.0 in /usr/local/lib/python3.10/dist-packages (from xhtml2pdf==0.2.2->aequitas) (1.1)\n",
            "Requirement already satisfied: httplib2 in /usr/local/lib/python3.10/dist-packages (from xhtml2pdf==0.2.2->aequitas) (0.22.0)\n",
            "Collecting pyPdf2 (from xhtml2pdf==0.2.2->aequitas)\n",
            "  Downloading pypdf2-3.0.1-py3-none-any.whl (232 kB)\n",
            "\u001b[2K     \u001b[90m━━━━━━━━━━━━━━━━━━━━━━━━━━━━━━━━━━━━━━━━\u001b[0m \u001b[32m232.6/232.6 kB\u001b[0m \u001b[31m22.6 MB/s\u001b[0m eta \u001b[36m0:00:00\u001b[0m\n",
            "\u001b[?25hRequirement already satisfied: Pillow in /usr/local/lib/python3.10/dist-packages (from xhtml2pdf==0.2.2->aequitas) (9.4.0)\n",
            "Collecting reportlab>=3.0 (from xhtml2pdf==0.2.2->aequitas)\n",
            "  Downloading reportlab-4.0.7-py3-none-any.whl (1.9 MB)\n",
            "\u001b[2K     \u001b[90m━━━━━━━━━━━━━━━━━━━━━━━━━━━━━━━━━━━━━━━━\u001b[0m \u001b[32m1.9/1.9 MB\u001b[0m \u001b[31m22.0 MB/s\u001b[0m eta \u001b[36m0:00:00\u001b[0m\n",
            "\u001b[?25hRequirement already satisfied: six in /usr/local/lib/python3.10/dist-packages (from xhtml2pdf==0.2.2->aequitas) (1.16.0)\n",
            "Requirement already satisfied: contourpy>=1.0.1 in /usr/local/lib/python3.10/dist-packages (from matplotlib>=3.0.3->aequitas) (1.2.0)\n",
            "Requirement already satisfied: cycler>=0.10 in /usr/local/lib/python3.10/dist-packages (from matplotlib>=3.0.3->aequitas) (0.12.1)\n",
            "Requirement already satisfied: fonttools>=4.22.0 in /usr/local/lib/python3.10/dist-packages (from matplotlib>=3.0.3->aequitas) (4.45.1)\n",
            "Requirement already satisfied: kiwisolver>=1.0.1 in /usr/local/lib/python3.10/dist-packages (from matplotlib>=3.0.3->aequitas) (1.4.5)\n",
            "Requirement already satisfied: packaging>=20.0 in /usr/local/lib/python3.10/dist-packages (from matplotlib>=3.0.3->aequitas) (23.2)\n",
            "Requirement already satisfied: pyparsing>=2.3.1 in /usr/local/lib/python3.10/dist-packages (from matplotlib>=3.0.3->aequitas) (3.1.1)\n",
            "Requirement already satisfied: python-dateutil>=2.7 in /usr/local/lib/python3.10/dist-packages (from matplotlib>=3.0.3->aequitas) (2.8.2)\n",
            "Requirement already satisfied: pytz>=2020.1 in /usr/local/lib/python3.10/dist-packages (from pandas>=0.24.1->aequitas) (2023.3.post1)\n",
            "Requirement already satisfied: typing-extensions>=4.2.0 in /usr/local/lib/python3.10/dist-packages (from SQLAlchemy>=1.1.1->aequitas) (4.5.0)\n",
            "Requirement already satisfied: greenlet!=0.4.17 in /usr/local/lib/python3.10/dist-packages (from SQLAlchemy>=1.1.1->aequitas) (3.0.1)\n",
            "Requirement already satisfied: webencodings in /usr/local/lib/python3.10/dist-packages (from html5lib>=1.0->xhtml2pdf==0.2.2->aequitas) (0.5.1)\n",
            "Requirement already satisfied: MarkupSafe>=2.0 in /usr/local/lib/python3.10/dist-packages (from jinja2->altair==4.1.0->aequitas) (2.1.3)\n",
            "Requirement already satisfied: attrs>=22.2.0 in /usr/local/lib/python3.10/dist-packages (from jsonschema->altair==4.1.0->aequitas) (23.1.0)\n",
            "Requirement already satisfied: jsonschema-specifications>=2023.03.6 in /usr/local/lib/python3.10/dist-packages (from jsonschema->altair==4.1.0->aequitas) (2023.11.2)\n",
            "Requirement already satisfied: referencing>=0.28.4 in /usr/local/lib/python3.10/dist-packages (from jsonschema->altair==4.1.0->aequitas) (0.31.1)\n",
            "Requirement already satisfied: rpds-py>=0.7.1 in /usr/local/lib/python3.10/dist-packages (from jsonschema->altair==4.1.0->aequitas) (0.13.2)\n",
            "Building wheels for collected packages: Flask-Bootstrap, markdown2, millify, tabulate, xhtml2pdf, visitor\n",
            "  Building wheel for Flask-Bootstrap (setup.py) ... \u001b[?25l\u001b[?25hdone\n",
            "  Created wheel for Flask-Bootstrap: filename=Flask_Bootstrap-3.3.7.1-py3-none-any.whl size=460118 sha256=9056ab501f35955e483007971271fa98fd155380ffd5363060a0c9c03580ba4e\n",
            "  Stored in directory: /root/.cache/pip/wheels/6f/33/ad/26540e84a28334e5dfeda756df270f95353779f03bc5cf40d4\n",
            "  Building wheel for markdown2 (setup.py) ... \u001b[?25l\u001b[?25hdone\n",
            "  Created wheel for markdown2: filename=markdown2-2.3.5-py3-none-any.whl size=33327 sha256=2447f7f459fa51007fdcfe0043fa0c13d1c48a13e3e1b53e198cc86ee7443a76\n",
            "  Stored in directory: /root/.cache/pip/wheels/64/94/a9/15f2d5685178e7a61701b5f852d2230dcd3a420e4316f8c29c\n",
            "  Building wheel for millify (setup.py) ... \u001b[?25l\u001b[?25hdone\n",
            "  Created wheel for millify: filename=millify-0.1.1-py3-none-any.whl size=1845 sha256=7167e177190b4eeba7e9086e4cc6c05725afd70ceebd1acd46386fbdc823be34\n",
            "  Stored in directory: /root/.cache/pip/wheels/67/8f/53/2759feac2e247ce89c1165c3ff12d484de7714a875ea3464f0\n",
            "  Building wheel for tabulate (setup.py) ... \u001b[?25l\u001b[?25hdone\n",
            "  Created wheel for tabulate: filename=tabulate-0.8.2-py3-none-any.whl size=23529 sha256=364e48305f2431d67e78072f6653adeb1cbf4708e05b6c1d6ccd8375470447eb\n",
            "  Stored in directory: /root/.cache/pip/wheels/3a/eb/ae/5ae59ba76a9b078413b15eac159e56df2a51e4b1c10d44d099\n",
            "  Building wheel for xhtml2pdf (setup.py) ... \u001b[?25l\u001b[?25hdone\n",
            "  Created wheel for xhtml2pdf: filename=xhtml2pdf-0.2.2-py3-none-any.whl size=233887 sha256=3d7c103894e9294e8ec329395b9ef6c1adcfc81fbf6fca8c17fcfc6b9e619e47\n",
            "  Stored in directory: /root/.cache/pip/wheels/ef/12/14/2cb8ea69b717deb63fbbc1f4a3220b702929c2c90d01ab513b\n",
            "  Building wheel for visitor (setup.py) ... \u001b[?25l\u001b[?25hdone\n",
            "  Created wheel for visitor: filename=visitor-0.1.3-py3-none-any.whl size=3926 sha256=03d5303a8cc1aec1a74380f0f3bde9278b5c9ec19059338cc2d9e712addd49d0\n",
            "  Stored in directory: /root/.cache/pip/wheels/19/31/99/2ec5b4459cac4d801d6201d501a354366d180afc9f8bb2d333\n",
            "Successfully built Flask-Bootstrap markdown2 millify tabulate xhtml2pdf visitor\n",
            "Installing collected packages: visitor, tabulate, ohio, millify, markdown2, reportlab, pyPdf2, dominate, xhtml2pdf, Flask, Flask-Bootstrap, altair, aequitas\n",
            "  Attempting uninstall: tabulate\n",
            "    Found existing installation: tabulate 0.9.0\n",
            "    Uninstalling tabulate-0.9.0:\n",
            "      Successfully uninstalled tabulate-0.9.0\n",
            "  Attempting uninstall: Flask\n",
            "    Found existing installation: Flask 2.2.5\n",
            "    Uninstalling Flask-2.2.5:\n",
            "      Successfully uninstalled Flask-2.2.5\n",
            "  Attempting uninstall: altair\n",
            "    Found existing installation: altair 4.2.2\n",
            "    Uninstalling altair-4.2.2:\n",
            "      Successfully uninstalled altair-4.2.2\n",
            "\u001b[31mERROR: pip's dependency resolver does not currently take into account all the packages that are installed. This behaviour is the source of the following dependency conflicts.\n",
            "lida 0.0.10 requires fastapi, which is not installed.\n",
            "lida 0.0.10 requires kaleido, which is not installed.\n",
            "lida 0.0.10 requires python-multipart, which is not installed.\n",
            "lida 0.0.10 requires uvicorn, which is not installed.\n",
            "bigframes 0.15.0 requires tabulate>=0.9, but you have tabulate 0.8.2 which is incompatible.\u001b[0m\u001b[31m\n",
            "\u001b[0mSuccessfully installed Flask-0.12.2 Flask-Bootstrap-3.3.7.1 aequitas-0.42.0 altair-4.1.0 dominate-2.9.0 markdown2-2.3.5 millify-0.1.1 ohio-0.5.0 pyPdf2-3.0.1 reportlab-4.0.7 tabulate-0.8.2 visitor-0.1.3 xhtml2pdf-0.2.2\n"
          ]
        }
      ]
    },
    {
      "cell_type": "code",
      "execution_count": null,
      "metadata": {
        "id": "4cLQgjzLpaZL"
      },
      "outputs": [],
      "source": [
        "# Preprocessing imports\n",
        "import os\n",
        "import pandas as pd\n",
        "import numpy as np\n",
        "import matplotlib.pyplot as plt\n",
        "import seaborn as sns\n",
        "\n",
        "# .py file from original GitHub\n",
        "from dataset import NIH\n",
        "\n",
        "# Pytorch libraries\n",
        "import torch\n",
        "from torchvision import models, transforms\n",
        "import torch.nn as nn\n",
        "import torch.optim as optim\n",
        "from torch.utils.data import TensorDataset, DataLoader\n",
        "\n",
        "# Evaluation metric imports\n",
        "from sklearn.model_selection import train_test_split\n",
        "from sklearn.metrics import confusion_matrix, accuracy_score\n",
        "from sklearn.metrics import classification_report\n",
        "from sklearn.metrics import roc_auc_score, roc_curve\n",
        "\n",
        "# Fairness evaluation imports\n",
        "from aequitas.preprocessing import preprocess_input_df\n",
        "from aequitas.group import Group\n",
        "from aequitas.bias import Bias\n",
        "from aequitas.fairness import Fairness\n",
        "import aequitas.plot as ap"
      ]
    },
    {
      "cell_type": "markdown",
      "metadata": {
        "id": "0rdJrC8Us_40"
      },
      "source": [
        "## **Preprocessing and Cleaning Data**"
      ]
    },
    {
      "cell_type": "code",
      "execution_count": null,
      "metadata": {
        "colab": {
          "base_uri": "https://localhost:8080/"
        },
        "id": "Kipe8aYaPj9j",
        "outputId": "3353b619-6885-4b95-c03d-8ec72517117c"
      },
      "outputs": [
        {
          "output_type": "stream",
          "name": "stdout",
          "text": [
            "Mounted at /content/drive\n"
          ]
        }
      ],
      "source": [
        "# Loading in images (zip method, as folder was too large)\n",
        "from google.colab import drive\n",
        "drive.mount('/content/drive')"
      ]
    },
    {
      "cell_type": "code",
      "execution_count": null,
      "metadata": {
        "id": "yu9O1-70U_mL"
      },
      "outputs": [],
      "source": [
        "!unzip -uq \"/content/drive/My Drive/images.zip\""
      ]
    },
    {
      "cell_type": "code",
      "execution_count": null,
      "metadata": {
        "id": "rIiQAJsssY71"
      },
      "outputs": [],
      "source": [
        "# Path to the folder containing PNG images\n",
        "folder_path = \"images\"\n",
        "\n",
        "# List of all PNG files in the folder\n",
        "png_files = [f for f in os.listdir(folder_path) if f.endswith(\".png\")]"
      ]
    },
    {
      "cell_type": "code",
      "execution_count": null,
      "metadata": {
        "id": "eWylywzlsrR4"
      },
      "outputs": [],
      "source": [
        "# Data entries for all NIH images\n",
        "data_entry_df = pd.read_csv(\"Data_Entry_2017_v2020.csv\")"
      ]
    },
    {
      "cell_type": "code",
      "source": [
        "import pandas as pd\n",
        "from sklearn.preprocessing import LabelEncoder\n",
        "\n",
        "# Create buckets for age group\n",
        "bins = [0, 18, 30, 50, 100]\n",
        "labels = [f'Age {i}-{j}' for i, j in zip(bins[:-1], bins[1:])]\n",
        "data_entry_df['Age Group'] = pd.cut(data_entry_df['Patient Age'], bins=bins, labels=labels)\n",
        "\n",
        "# Encode 'Age Group' to be numerical data\n",
        "label_encoder = LabelEncoder()\n",
        "data_entry_df['Age Group Encoded'] = label_encoder.fit_transform(data_entry_df['Age Group'])\n",
        "\n",
        "data_entry_df.head()"
      ],
      "metadata": {
        "colab": {
          "base_uri": "https://localhost:8080/",
          "height": 206
        },
        "id": "yZ8wOHnY8Tt1",
        "outputId": "2c55f774-5e20-4d58-b399-472b4cf65986"
      },
      "execution_count": null,
      "outputs": [
        {
          "output_type": "execute_result",
          "data": {
            "text/plain": [
              "        Image Index          Finding Labels  Follow-up #  Patient ID  \\\n",
              "0  00000001_000.png            Cardiomegaly            0           1   \n",
              "1  00000001_001.png  Cardiomegaly|Emphysema            1           1   \n",
              "2  00000001_002.png   Cardiomegaly|Effusion            2           1   \n",
              "3  00000002_000.png              No Finding            0           2   \n",
              "4  00000003_001.png                  Hernia            0           3   \n",
              "\n",
              "   Patient Age Patient Gender View Position  OriginalImage[Width  Height]  \\\n",
              "0           57              M            PA                 2682     2749   \n",
              "1           58              M            PA                 2894     2729   \n",
              "2           58              M            PA                 2500     2048   \n",
              "3           80              M            PA                 2500     2048   \n",
              "4           74              F            PA                 2500     2048   \n",
              "\n",
              "   OriginalImagePixelSpacing[x     y]   Age Group  Age Group Encoded  \n",
              "0                        0.143  0.143  Age 50-100                  3  \n",
              "1                        0.143  0.143  Age 50-100                  3  \n",
              "2                        0.168  0.168  Age 50-100                  3  \n",
              "3                        0.171  0.171  Age 50-100                  3  \n",
              "4                        0.168  0.168  Age 50-100                  3  "
            ],
            "text/html": [
              "\n",
              "  <div id=\"df-3d0fda2a-0e70-464f-be75-48b8417298fb\" class=\"colab-df-container\">\n",
              "    <div>\n",
              "<style scoped>\n",
              "    .dataframe tbody tr th:only-of-type {\n",
              "        vertical-align: middle;\n",
              "    }\n",
              "\n",
              "    .dataframe tbody tr th {\n",
              "        vertical-align: top;\n",
              "    }\n",
              "\n",
              "    .dataframe thead th {\n",
              "        text-align: right;\n",
              "    }\n",
              "</style>\n",
              "<table border=\"1\" class=\"dataframe\">\n",
              "  <thead>\n",
              "    <tr style=\"text-align: right;\">\n",
              "      <th></th>\n",
              "      <th>Image Index</th>\n",
              "      <th>Finding Labels</th>\n",
              "      <th>Follow-up #</th>\n",
              "      <th>Patient ID</th>\n",
              "      <th>Patient Age</th>\n",
              "      <th>Patient Gender</th>\n",
              "      <th>View Position</th>\n",
              "      <th>OriginalImage[Width</th>\n",
              "      <th>Height]</th>\n",
              "      <th>OriginalImagePixelSpacing[x</th>\n",
              "      <th>y]</th>\n",
              "      <th>Age Group</th>\n",
              "      <th>Age Group Encoded</th>\n",
              "    </tr>\n",
              "  </thead>\n",
              "  <tbody>\n",
              "    <tr>\n",
              "      <th>0</th>\n",
              "      <td>00000001_000.png</td>\n",
              "      <td>Cardiomegaly</td>\n",
              "      <td>0</td>\n",
              "      <td>1</td>\n",
              "      <td>57</td>\n",
              "      <td>M</td>\n",
              "      <td>PA</td>\n",
              "      <td>2682</td>\n",
              "      <td>2749</td>\n",
              "      <td>0.143</td>\n",
              "      <td>0.143</td>\n",
              "      <td>Age 50-100</td>\n",
              "      <td>3</td>\n",
              "    </tr>\n",
              "    <tr>\n",
              "      <th>1</th>\n",
              "      <td>00000001_001.png</td>\n",
              "      <td>Cardiomegaly|Emphysema</td>\n",
              "      <td>1</td>\n",
              "      <td>1</td>\n",
              "      <td>58</td>\n",
              "      <td>M</td>\n",
              "      <td>PA</td>\n",
              "      <td>2894</td>\n",
              "      <td>2729</td>\n",
              "      <td>0.143</td>\n",
              "      <td>0.143</td>\n",
              "      <td>Age 50-100</td>\n",
              "      <td>3</td>\n",
              "    </tr>\n",
              "    <tr>\n",
              "      <th>2</th>\n",
              "      <td>00000001_002.png</td>\n",
              "      <td>Cardiomegaly|Effusion</td>\n",
              "      <td>2</td>\n",
              "      <td>1</td>\n",
              "      <td>58</td>\n",
              "      <td>M</td>\n",
              "      <td>PA</td>\n",
              "      <td>2500</td>\n",
              "      <td>2048</td>\n",
              "      <td>0.168</td>\n",
              "      <td>0.168</td>\n",
              "      <td>Age 50-100</td>\n",
              "      <td>3</td>\n",
              "    </tr>\n",
              "    <tr>\n",
              "      <th>3</th>\n",
              "      <td>00000002_000.png</td>\n",
              "      <td>No Finding</td>\n",
              "      <td>0</td>\n",
              "      <td>2</td>\n",
              "      <td>80</td>\n",
              "      <td>M</td>\n",
              "      <td>PA</td>\n",
              "      <td>2500</td>\n",
              "      <td>2048</td>\n",
              "      <td>0.171</td>\n",
              "      <td>0.171</td>\n",
              "      <td>Age 50-100</td>\n",
              "      <td>3</td>\n",
              "    </tr>\n",
              "    <tr>\n",
              "      <th>4</th>\n",
              "      <td>00000003_001.png</td>\n",
              "      <td>Hernia</td>\n",
              "      <td>0</td>\n",
              "      <td>3</td>\n",
              "      <td>74</td>\n",
              "      <td>F</td>\n",
              "      <td>PA</td>\n",
              "      <td>2500</td>\n",
              "      <td>2048</td>\n",
              "      <td>0.168</td>\n",
              "      <td>0.168</td>\n",
              "      <td>Age 50-100</td>\n",
              "      <td>3</td>\n",
              "    </tr>\n",
              "  </tbody>\n",
              "</table>\n",
              "</div>\n",
              "    <div class=\"colab-df-buttons\">\n",
              "\n",
              "  <div class=\"colab-df-container\">\n",
              "    <button class=\"colab-df-convert\" onclick=\"convertToInteractive('df-3d0fda2a-0e70-464f-be75-48b8417298fb')\"\n",
              "            title=\"Convert this dataframe to an interactive table.\"\n",
              "            style=\"display:none;\">\n",
              "\n",
              "  <svg xmlns=\"http://www.w3.org/2000/svg\" height=\"24px\" viewBox=\"0 -960 960 960\">\n",
              "    <path d=\"M120-120v-720h720v720H120Zm60-500h600v-160H180v160Zm220 220h160v-160H400v160Zm0 220h160v-160H400v160ZM180-400h160v-160H180v160Zm440 0h160v-160H620v160ZM180-180h160v-160H180v160Zm440 0h160v-160H620v160Z\"/>\n",
              "  </svg>\n",
              "    </button>\n",
              "\n",
              "  <style>\n",
              "    .colab-df-container {\n",
              "      display:flex;\n",
              "      gap: 12px;\n",
              "    }\n",
              "\n",
              "    .colab-df-convert {\n",
              "      background-color: #E8F0FE;\n",
              "      border: none;\n",
              "      border-radius: 50%;\n",
              "      cursor: pointer;\n",
              "      display: none;\n",
              "      fill: #1967D2;\n",
              "      height: 32px;\n",
              "      padding: 0 0 0 0;\n",
              "      width: 32px;\n",
              "    }\n",
              "\n",
              "    .colab-df-convert:hover {\n",
              "      background-color: #E2EBFA;\n",
              "      box-shadow: 0px 1px 2px rgba(60, 64, 67, 0.3), 0px 1px 3px 1px rgba(60, 64, 67, 0.15);\n",
              "      fill: #174EA6;\n",
              "    }\n",
              "\n",
              "    .colab-df-buttons div {\n",
              "      margin-bottom: 4px;\n",
              "    }\n",
              "\n",
              "    [theme=dark] .colab-df-convert {\n",
              "      background-color: #3B4455;\n",
              "      fill: #D2E3FC;\n",
              "    }\n",
              "\n",
              "    [theme=dark] .colab-df-convert:hover {\n",
              "      background-color: #434B5C;\n",
              "      box-shadow: 0px 1px 3px 1px rgba(0, 0, 0, 0.15);\n",
              "      filter: drop-shadow(0px 1px 2px rgba(0, 0, 0, 0.3));\n",
              "      fill: #FFFFFF;\n",
              "    }\n",
              "  </style>\n",
              "\n",
              "    <script>\n",
              "      const buttonEl =\n",
              "        document.querySelector('#df-3d0fda2a-0e70-464f-be75-48b8417298fb button.colab-df-convert');\n",
              "      buttonEl.style.display =\n",
              "        google.colab.kernel.accessAllowed ? 'block' : 'none';\n",
              "\n",
              "      async function convertToInteractive(key) {\n",
              "        const element = document.querySelector('#df-3d0fda2a-0e70-464f-be75-48b8417298fb');\n",
              "        const dataTable =\n",
              "          await google.colab.kernel.invokeFunction('convertToInteractive',\n",
              "                                                    [key], {});\n",
              "        if (!dataTable) return;\n",
              "\n",
              "        const docLinkHtml = 'Like what you see? Visit the ' +\n",
              "          '<a target=\"_blank\" href=https://colab.research.google.com/notebooks/data_table.ipynb>data table notebook</a>'\n",
              "          + ' to learn more about interactive tables.';\n",
              "        element.innerHTML = '';\n",
              "        dataTable['output_type'] = 'display_data';\n",
              "        await google.colab.output.renderOutput(dataTable, element);\n",
              "        const docLink = document.createElement('div');\n",
              "        docLink.innerHTML = docLinkHtml;\n",
              "        element.appendChild(docLink);\n",
              "      }\n",
              "    </script>\n",
              "  </div>\n",
              "\n",
              "\n",
              "<div id=\"df-b183579e-8d14-4755-aa15-4ae94391b30b\">\n",
              "  <button class=\"colab-df-quickchart\" onclick=\"quickchart('df-b183579e-8d14-4755-aa15-4ae94391b30b')\"\n",
              "            title=\"Suggest charts\"\n",
              "            style=\"display:none;\">\n",
              "\n",
              "<svg xmlns=\"http://www.w3.org/2000/svg\" height=\"24px\"viewBox=\"0 0 24 24\"\n",
              "     width=\"24px\">\n",
              "    <g>\n",
              "        <path d=\"M19 3H5c-1.1 0-2 .9-2 2v14c0 1.1.9 2 2 2h14c1.1 0 2-.9 2-2V5c0-1.1-.9-2-2-2zM9 17H7v-7h2v7zm4 0h-2V7h2v10zm4 0h-2v-4h2v4z\"/>\n",
              "    </g>\n",
              "</svg>\n",
              "  </button>\n",
              "\n",
              "<style>\n",
              "  .colab-df-quickchart {\n",
              "      --bg-color: #E8F0FE;\n",
              "      --fill-color: #1967D2;\n",
              "      --hover-bg-color: #E2EBFA;\n",
              "      --hover-fill-color: #174EA6;\n",
              "      --disabled-fill-color: #AAA;\n",
              "      --disabled-bg-color: #DDD;\n",
              "  }\n",
              "\n",
              "  [theme=dark] .colab-df-quickchart {\n",
              "      --bg-color: #3B4455;\n",
              "      --fill-color: #D2E3FC;\n",
              "      --hover-bg-color: #434B5C;\n",
              "      --hover-fill-color: #FFFFFF;\n",
              "      --disabled-bg-color: #3B4455;\n",
              "      --disabled-fill-color: #666;\n",
              "  }\n",
              "\n",
              "  .colab-df-quickchart {\n",
              "    background-color: var(--bg-color);\n",
              "    border: none;\n",
              "    border-radius: 50%;\n",
              "    cursor: pointer;\n",
              "    display: none;\n",
              "    fill: var(--fill-color);\n",
              "    height: 32px;\n",
              "    padding: 0;\n",
              "    width: 32px;\n",
              "  }\n",
              "\n",
              "  .colab-df-quickchart:hover {\n",
              "    background-color: var(--hover-bg-color);\n",
              "    box-shadow: 0 1px 2px rgba(60, 64, 67, 0.3), 0 1px 3px 1px rgba(60, 64, 67, 0.15);\n",
              "    fill: var(--button-hover-fill-color);\n",
              "  }\n",
              "\n",
              "  .colab-df-quickchart-complete:disabled,\n",
              "  .colab-df-quickchart-complete:disabled:hover {\n",
              "    background-color: var(--disabled-bg-color);\n",
              "    fill: var(--disabled-fill-color);\n",
              "    box-shadow: none;\n",
              "  }\n",
              "\n",
              "  .colab-df-spinner {\n",
              "    border: 2px solid var(--fill-color);\n",
              "    border-color: transparent;\n",
              "    border-bottom-color: var(--fill-color);\n",
              "    animation:\n",
              "      spin 1s steps(1) infinite;\n",
              "  }\n",
              "\n",
              "  @keyframes spin {\n",
              "    0% {\n",
              "      border-color: transparent;\n",
              "      border-bottom-color: var(--fill-color);\n",
              "      border-left-color: var(--fill-color);\n",
              "    }\n",
              "    20% {\n",
              "      border-color: transparent;\n",
              "      border-left-color: var(--fill-color);\n",
              "      border-top-color: var(--fill-color);\n",
              "    }\n",
              "    30% {\n",
              "      border-color: transparent;\n",
              "      border-left-color: var(--fill-color);\n",
              "      border-top-color: var(--fill-color);\n",
              "      border-right-color: var(--fill-color);\n",
              "    }\n",
              "    40% {\n",
              "      border-color: transparent;\n",
              "      border-right-color: var(--fill-color);\n",
              "      border-top-color: var(--fill-color);\n",
              "    }\n",
              "    60% {\n",
              "      border-color: transparent;\n",
              "      border-right-color: var(--fill-color);\n",
              "    }\n",
              "    80% {\n",
              "      border-color: transparent;\n",
              "      border-right-color: var(--fill-color);\n",
              "      border-bottom-color: var(--fill-color);\n",
              "    }\n",
              "    90% {\n",
              "      border-color: transparent;\n",
              "      border-bottom-color: var(--fill-color);\n",
              "    }\n",
              "  }\n",
              "</style>\n",
              "\n",
              "  <script>\n",
              "    async function quickchart(key) {\n",
              "      const quickchartButtonEl =\n",
              "        document.querySelector('#' + key + ' button');\n",
              "      quickchartButtonEl.disabled = true;  // To prevent multiple clicks.\n",
              "      quickchartButtonEl.classList.add('colab-df-spinner');\n",
              "      try {\n",
              "        const charts = await google.colab.kernel.invokeFunction(\n",
              "            'suggestCharts', [key], {});\n",
              "      } catch (error) {\n",
              "        console.error('Error during call to suggestCharts:', error);\n",
              "      }\n",
              "      quickchartButtonEl.classList.remove('colab-df-spinner');\n",
              "      quickchartButtonEl.classList.add('colab-df-quickchart-complete');\n",
              "    }\n",
              "    (() => {\n",
              "      let quickchartButtonEl =\n",
              "        document.querySelector('#df-b183579e-8d14-4755-aa15-4ae94391b30b button');\n",
              "      quickchartButtonEl.style.display =\n",
              "        google.colab.kernel.accessAllowed ? 'block' : 'none';\n",
              "    })();\n",
              "  </script>\n",
              "</div>\n",
              "    </div>\n",
              "  </div>\n"
            ]
          },
          "metadata": {},
          "execution_count": 8
        }
      ]
    },
    {
      "cell_type": "code",
      "execution_count": null,
      "metadata": {
        "colab": {
          "base_uri": "https://localhost:8080/",
          "height": 576
        },
        "id": "NfjVVKmHPR6y",
        "outputId": "138d6b29-790e-4073-99a9-71511594d32b"
      },
      "outputs": [
        {
          "output_type": "display_data",
          "data": {
            "text/plain": [
              "<Figure size 640x480 with 1 Axes>"
            ],
            "image/png": "[encoded data removed]"
          },
          "metadata": {}
        }
      ],
      "source": [
        "# Representing the counts of top 10 finding labels\n",
        "top_finding_labels = data_entry_df['Finding Labels'].value_counts().head(10)\n",
        "\n",
        "# Plotting\n",
        "plt.bar(top_finding_labels.index, top_finding_labels.values, color='blue')\n",
        "plt.xlabel('Finding Labels')\n",
        "plt.ylabel('Count')\n",
        "plt.title('Top 10 Finding Labels')\n",
        "plt.xticks(rotation=45, ha='right')\n",
        "plt.show()"
      ]
    },
    {
      "cell_type": "code",
      "execution_count": null,
      "metadata": {
        "id": "gUUDvjtjssCx"
      },
      "outputs": [],
      "source": [
        "# Dataframe for subset of images downloaded from NIH website\n",
        "start_idx = \"00006585_007\"\n",
        "end_idx = \"00009232_004\"\n",
        "\n",
        "subset_df = data_entry_df[\n",
        "    (data_entry_df[\"Image Index\"] >= start_idx)\n",
        "    & (data_entry_df[\"Image Index\"] <= end_idx)\n",
        "]\n",
        "\n",
        "subset_df = subset_df.drop(\n",
        "    columns=[\"OriginalImage[Width\", \"Height]\", \"OriginalImagePixelSpacing[x\", \"y]\"]\n",
        ")"
      ]
    },
    {
      "cell_type": "code",
      "execution_count": null,
      "metadata": {
        "colab": {
          "base_uri": "https://localhost:8080/"
        },
        "id": "Rt6IOc17sxnq",
        "outputId": "2a104135-2e7f-469b-ffa4-94c98e01cd2a"
      },
      "outputs": [
        {
          "output_type": "stream",
          "name": "stdout",
          "text": [
            "(6000, 24)\n",
            "(4000, 24)\n"
          ]
        }
      ],
      "source": [
        "# Add binary columns for each pathology to match NIH model\n",
        "pathologies = [\n",
        "    \"Atelectasis\",\n",
        "    \"Cardiomegaly\",\n",
        "    \"Effusion\",\n",
        "    \"Infiltration\",\n",
        "    \"Mass\",\n",
        "    \"Nodule\",\n",
        "    \"No Finding\",\n",
        "    \"Pneumonia\",\n",
        "    \"Pneumothorax\",\n",
        "    \"Consolidation\",\n",
        "    \"Edema\",\n",
        "    \"Emphysema\",\n",
        "    \"Fibrosis\",\n",
        "    \"Pleural_Thickening\",\n",
        "    \"Hernia\",\n",
        "]\n",
        "\n",
        "# Converts labels to represent whether it exists for that image\n",
        "for p in pathologies:\n",
        "    subset_df[p] = subset_df[\"Finding Labels\"].str.contains(p).astype(int)\n",
        "\n",
        "# Split the data into training and validation sets, find the size of each\n",
        "train, val = train_test_split(subset_df, test_size=0.4)\n",
        "print(train.shape)\n",
        "print(val.shape)"
      ]
    },
    {
      "cell_type": "code",
      "execution_count": null,
      "metadata": {
        "id": "BSW9FVc5szMe"
      },
      "outputs": [],
      "source": [
        "# Pytorch dataset and dataloader for training data\n",
        "transform_list = transforms.Compose(\n",
        "    [transforms.ToTensor(), transforms.Resize((128,128))]\n",
        ")\n",
        "\n",
        "# DataLoader handles batching and shuffling of the data during training\n",
        "train_dataset = NIH(train, folder_path, transform=transform_list)\n",
        "train_loader = torch.utils.data.DataLoader(train_dataset, batch_size=16, shuffle=True)"
      ]
    },
    {
      "cell_type": "code",
      "execution_count": null,
      "metadata": {
        "colab": {
          "base_uri": "https://localhost:8080/"
        },
        "id": "b5GxtGMAmSar",
        "outputId": "214b910f-a252-4e97-8dd6-362168e4bbc1"
      },
      "outputs": [
        {
          "output_type": "stream",
          "name": "stdout",
          "text": [
            "Number of Training Samples: 6000\n",
            "Number of Batches: 375\n"
          ]
        }
      ],
      "source": [
        "print(\"Number of Training Samples:\", len(train_dataset))\n",
        "print(\"Number of Batches:\", len(train_loader))"
      ]
    },
    {
      "cell_type": "markdown",
      "metadata": {
        "id": "n19sKk0SY79e"
      },
      "source": [
        "## **Training Model, Determining Loss**"
      ]
    },
    {
      "cell_type": "code",
      "execution_count": null,
      "metadata": {
        "colab": {
          "base_uri": "https://localhost:8080/"
        },
        "id": "x1vuCTMqs0o2",
        "outputId": "30bb99c9-b011-4c35-fcd2-9956edd1724e"
      },
      "outputs": [
        {
          "output_type": "stream",
          "name": "stderr",
          "text": [
            "/usr/local/lib/python3.10/dist-packages/torchvision/models/_utils.py:208: UserWarning: The parameter 'pretrained' is deprecated since 0.13 and may be removed in the future, please use 'weights' instead.\n",
            "  warnings.warn(\n",
            "/usr/local/lib/python3.10/dist-packages/torchvision/models/_utils.py:223: UserWarning: Arguments other than a weight enum or `None` for 'weights' are deprecated since 0.13 and may be removed in the future. The current behavior is equivalent to passing `weights=DenseNet121_Weights.IMAGENET1K_V1`. You can also use `weights=DenseNet121_Weights.DEFAULT` to get the most up-to-date weights.\n",
            "  warnings.warn(msg)\n",
            "Downloading: \"https://download.pytorch.org/models/densenet121-a639ec97.pth\" to /root/.cache/torch/hub/checkpoints/densenet121-a639ec97.pth\n",
            "100%|██████████| 30.8M/30.8M [00:00<00:00, 54.6MB/s]\n"
          ]
        }
      ],
      "source": [
        "# Model from NIH repo\n",
        "model = models.densenet121(pretrained=True)\n",
        "num_features = model.classifier.in_features\n",
        "\n",
        "n_labels = 2\n",
        "model.classifier = torch.nn.Linear(num_features, n_labels)"
      ]
    },
    {
      "cell_type": "code",
      "execution_count": null,
      "metadata": {
        "id": "kxzDw5ass109"
      },
      "outputs": [],
      "source": [
        "# Loss function, optimizer - Cross Entropy is normally used for classification\n",
        "loss_fn = torch.nn.CrossEntropyLoss()\n",
        "learning_rate = 0.5e-3\n",
        "optimizer = torch.optim.Adam(params=model.parameters(), lr=learning_rate)"
      ]
    },
    {
      "cell_type": "code",
      "execution_count": null,
      "metadata": {
        "id": "8bwDSr6Ps31R"
      },
      "outputs": [],
      "source": [
        "# Training loop - updates model weights during training phase\n",
        "\n",
        "def run_one_epoch(model, data_loader, loss_fn, optimizer, phase=\"train\", save_path=None):\n",
        "    running_loss = 0.0\n",
        "    last_loss = 0.0\n",
        "    losses = []\n",
        "\n",
        "    for i, data in enumerate(data_loader):\n",
        "        # Every data instance has an image, label, and the \"Image Index\"\n",
        "        images, labels, _ = data\n",
        "\n",
        "        if phase == \"train\":\n",
        "            optimizer.zero_grad() # zero gradients for every batch\n",
        "            model.train()\n",
        "            outputs = model(images)  # make predictions\n",
        "        elif phase == \"val\":\n",
        "            model.eval()\n",
        "            with torch.no_grad():\n",
        "                outputs = model(images)  # make predictions\n",
        "\n",
        "        loss = loss_fn(outputs, labels)\n",
        "        if phase == \"train\":\n",
        "            loss.backward()\n",
        "            optimizer.step()  # update weights\n",
        "\n",
        "        # Gather data and report\n",
        "        running_loss += loss.item()\n",
        "        if i % 10 == 9:\n",
        "            last_loss = running_loss / 10  # loss per batch\n",
        "            print(f\"Batch {i+1} Loss: {last_loss}\")\n",
        "            losses.append(last_loss)\n",
        "            running_loss = 0.0\n",
        "\n",
        "        if save_path is not None:\n",
        "            torch.save(model.state_dict(), save_path)\n",
        "\n",
        "    return losses"
      ]
    },
    {
      "cell_type": "code",
      "source": [
        "# Create a directory in your Google Drive\n",
        "drive.mount('/content/gdrive')\n",
        "save_dir = '/content/gdrive/MyDrive'\n",
        "os.makedirs(save_dir, exist_ok=True)\n",
        "\n",
        "# Define the file name for model parameters\n",
        "save_filename = 'model_batch_loss.pth'\n",
        "save_path = os.path.join(save_dir, save_filename)\n",
        "\n",
        "# Now you can use `save_path` in your training loop\n",
        "epochs = 1\n",
        "\n",
        "for epoch in range(epochs):\n",
        "    print(f\"Epoch {epoch + 1}/{epochs}\")\n",
        "    train_losses = run_one_epoch(model, train_loader, loss_fn, optimizer, phase=\"train\", save_path=save_path)"
      ],
      "metadata": {
        "colab": {
          "base_uri": "https://localhost:8080/"
        },
        "id": "xcG73UwPPr1C",
        "outputId": "959de715-94ed-401a-8e04-2fde5b375a1d"
      },
      "execution_count": null,
      "outputs": [
        {
          "output_type": "stream",
          "name": "stdout",
          "text": [
            "Mounted at /content/gdrive\n",
            "Epoch 1/1\n"
          ]
        },
        {
          "output_type": "stream",
          "name": "stderr",
          "text": [
            "/usr/local/lib/python3.10/dist-packages/torchvision/transforms/functional.py:1603: UserWarning: The default value of the antialias parameter of all the resizing transforms (Resize(), RandomResizedCrop(), etc.) will change from None to True in v0.17, in order to be consistent across the PIL and Tensor backends. To suppress this warning, directly pass antialias=True (recommended, future default), antialias=None (current default, which means False for Tensors and True for PIL), or antialias=False (only works on Tensors - PIL will still use antialiasing). This also applies if you are using the inference transforms from the models weights: update the call to weights.transforms(antialias=True).\n",
            "  warnings.warn(\n"
          ]
        },
        {
          "output_type": "stream",
          "name": "stdout",
          "text": [
            "Batch 10 Loss: 0.7524232685565948\n",
            "Batch 20 Loss: 0.7149586260318757\n",
            "Batch 30 Loss: 0.7431390643119812\n",
            "Batch 40 Loss: 0.7681475162506104\n",
            "Batch 50 Loss: 0.6669314801692963\n",
            "Batch 60 Loss: 0.7409322649240494\n",
            "Batch 70 Loss: 0.699104118347168\n",
            "Batch 80 Loss: 0.6490255236625672\n",
            "Batch 90 Loss: 0.6159456461668015\n",
            "Batch 100 Loss: 0.6457529842853547\n",
            "Batch 110 Loss: 0.6185824394226074\n",
            "Batch 120 Loss: 0.7156467497348785\n",
            "Batch 130 Loss: 0.5979071408510208\n",
            "Batch 140 Loss: 0.6320990324020386\n",
            "Batch 150 Loss: 0.6974950850009918\n",
            "Batch 160 Loss: 0.6755877733230591\n",
            "Batch 170 Loss: 0.5899833679199219\n",
            "Batch 180 Loss: 0.6746047616004944\n",
            "Batch 190 Loss: 0.6142614781856537\n",
            "Batch 200 Loss: 0.6058786600828171\n",
            "Batch 210 Loss: 0.6199163556098938\n",
            "Batch 220 Loss: 0.6455938339233398\n",
            "Batch 230 Loss: 0.5970417499542237\n",
            "Batch 240 Loss: 0.6741994500160218\n",
            "Batch 250 Loss: 0.6031461954116821\n",
            "Batch 260 Loss: 0.6093381762504577\n",
            "Batch 270 Loss: 0.6485198646783829\n",
            "Batch 280 Loss: 0.6367103636264801\n",
            "Batch 290 Loss: 0.5758569240570068\n",
            "Batch 300 Loss: 0.63026083111763\n",
            "Batch 310 Loss: 0.664599746465683\n",
            "Batch 320 Loss: 0.6106183588504791\n",
            "Batch 330 Loss: 0.6408285200595856\n",
            "Batch 340 Loss: 0.612990528345108\n",
            "Batch 350 Loss: 0.6031525373458863\n",
            "Batch 360 Loss: 0.6849516749382019\n",
            "Batch 370 Loss: 0.6128632605075837\n"
          ]
        }
      ]
    },
    {
      "cell_type": "code",
      "source": [
        "# Load the model parameters\n",
        "model_state_dict = torch.load(save_path)"
      ],
      "metadata": {
        "id": "opOKDPSwf3qR"
      },
      "execution_count": null,
      "outputs": []
    },
    {
      "cell_type": "code",
      "source": [
        "# Visualize cross-entropy loss\n",
        "plt.plot(train_losses, label='Training Loss')\n",
        "plt.xlabel('Batch')\n",
        "plt.ylabel('Cross-Entropy Loss')\n",
        "plt.title('Training Loss Over Batches')\n",
        "plt.legend()\n",
        "plt.show()"
      ],
      "metadata": {
        "colab": {
          "base_uri": "https://localhost:8080/",
          "height": 472
        },
        "id": "EVv7WR_B_5qX",
        "outputId": "d5772b54-e9a8-49dc-b10b-a40080a82ddd"
      },
      "execution_count": null,
      "outputs": [
        {
          "output_type": "display_data",
          "data": {
            "text/plain": [
              "<Figure size 640x480 with 1 Axes>"
            ],
            "image/png": "[encoded data removed]"
          },
          "metadata": {}
        }
      ]
    },
    {
      "cell_type": "markdown",
      "source": [
        "# **Evaluating the Model**"
      ],
      "metadata": {
        "id": "8jOXYh0XAFAG"
      }
    },
    {
      "cell_type": "code",
      "execution_count": null,
      "metadata": {
        "id": "fbay2OL5XR_6",
        "colab": {
          "base_uri": "https://localhost:8080/"
        },
        "outputId": "17d9446d-262d-4da5-a979-d52ced2e5976"
      },
      "outputs": [
        {
          "output_type": "stream",
          "name": "stdout",
          "text": [
            "Accuracy Score: 0.60575\n"
          ]
        }
      ],
      "source": [
        "# Make predictions and evaluate\n",
        "test_dataset = NIH(val, folder_path, transform=transform_list)\n",
        "test_loader = torch.utils.data.DataLoader(test_dataset, batch_size=16, shuffle=False)\n",
        "\n",
        "all_preds = []\n",
        "for i, data in enumerate(test_loader):\n",
        "    images, labels, _ = data\n",
        "\n",
        "    model.eval()\n",
        "    with torch.no_grad():\n",
        "        outputs = model(images)\n",
        "\n",
        "    preds = torch.argmax(outputs, -1)\n",
        "    all_preds.append(preds)\n",
        "\n",
        "val.loc[:, \"preds\"] = np.concatenate(all_preds)\n",
        "print(\"Accuracy Score:\", accuracy_score(val[\"No Finding\"], val[\"preds\"]))"
      ]
    },
    {
      "cell_type": "code",
      "source": [
        "# Accuracy per gender (males and females)\n",
        "genders = val['Patient Gender'].unique()\n",
        "\n",
        "for gender in genders:\n",
        "    # Create a subset of data for the current gender\n",
        "    gender_subset = val[val['Patient Gender'] == gender]\n",
        "\n",
        "    # Extract labels and predictions for the subset\n",
        "    subset_labels = gender_subset['No Finding']\n",
        "    subset_preds = gender_subset['preds']\n",
        "\n",
        "    # Calculate accuracy for the current gender\n",
        "    accuracy = accuracy_score(subset_labels, subset_preds)\n",
        "    print(f\"Accuracy for {gender}: {accuracy}\")"
      ],
      "metadata": {
        "colab": {
          "base_uri": "https://localhost:8080/"
        },
        "id": "7mQ4PrCe1aio",
        "outputId": "ba796160-64a4-405b-9f8b-92641a3ae6e0"
      },
      "execution_count": null,
      "outputs": [
        {
          "output_type": "stream",
          "name": "stdout",
          "text": [
            "Accuracy for F: 0.6144643828167482\n",
            "Accuracy for M: 0.5983341045812124\n"
          ]
        }
      ]
    },
    {
      "cell_type": "code",
      "source": [
        "from sklearn.metrics import accuracy_score\n",
        "\n",
        "# Assuming you have already defined the age groups and encoded them in the DataFrame\n",
        "\n",
        "# Accuracy per age group\n",
        "age_groups_encoded = sorted(val['Age Group Encoded'].unique())\n",
        "\n",
        "for age_group_encoded in age_groups_encoded:\n",
        "    # Create a subset of data for the current age group\n",
        "    age_group_subset = val[val['Age Group Encoded'] == age_group_encoded]\n",
        "\n",
        "    # Extract labels and predictions for the subset\n",
        "    subset_labels = age_group_subset['No Finding']\n",
        "    subset_preds = age_group_subset['preds']\n",
        "\n",
        "    # Get the corresponding age range for the group\n",
        "    age_range = age_group_subset['Age Group'].iloc[0]\n",
        "\n",
        "    # Calculate accuracy for the current age group\n",
        "    accuracy = accuracy_score(subset_labels, subset_preds)\n",
        "    print(f\"Age Group Code: {age_group_encoded}, Age Range: {age_range}, Accuracy: {accuracy}\")"
      ],
      "metadata": {
        "colab": {
          "base_uri": "https://localhost:8080/"
        },
        "id": "grxULWrw6R9o",
        "outputId": "2e2ad6d9-552e-485c-fda8-b67ee08b50f6"
      },
      "execution_count": null,
      "outputs": [
        {
          "output_type": "stream",
          "name": "stdout",
          "text": [
            "Age Group Code: 0, Age Range: Age 0-18, Accuracy: 0.5752688172043011\n",
            "Age Group Code: 1, Age Range: Age 18-30, Accuracy: 0.6548507462686567\n",
            "Age Group Code: 2, Age Range: Age 30-50, Accuracy: 0.6212737127371274\n",
            "Age Group Code: 3, Age Range: Age 50-100, Accuracy: 0.58157602663707\n"
          ]
        }
      ]
    },
    {
      "cell_type": "code",
      "source": [
        "# Calculate the confusion matrix\n",
        "conf_matrix = confusion_matrix(val[\"No Finding\"], val[\"preds\"])\n",
        "\n",
        "# Plot the confusion matrix using seaborn library\n",
        "sns.heatmap(conf_matrix, annot=True, fmt='d', cmap='Blues', xticklabels=['No Finding', 'Finding'], yticklabels=['No Finding', 'Finding'])\n",
        "plt.xlabel('Predicted Label')\n",
        "plt.ylabel('True Label')\n",
        "plt.title('Confusion Matrix')\n",
        "plt.show()\n",
        "\n",
        "print(\"Classification Report:\")\n",
        "print(classification_report(val[\"No Finding\"], val[\"preds\"], target_names=['No Finding', 'Finding']))"
      ],
      "metadata": {
        "colab": {
          "base_uri": "https://localhost:8080/",
          "height": 646
        },
        "id": "GRvNEwnbhgSd",
        "outputId": "2360e20e-6a1c-4429-b17d-5dc40a3a3f91"
      },
      "execution_count": null,
      "outputs": [
        {
          "output_type": "display_data",
          "data": {
            "text/plain": [
              "<Figure size 640x480 with 2 Axes>"
            ],
            "image/png": "[encoded data removed]"
          },
          "metadata": {}
        },
        {
          "output_type": "stream",
          "name": "stdout",
          "text": [
            "Classification Report:\n",
            "              precision    recall  f1-score   support\n",
            "\n",
            "  No Finding       0.52      0.83      0.64      1688\n",
            "     Finding       0.78      0.44      0.56      2312\n",
            "\n",
            "    accuracy                           0.61      4000\n",
            "   macro avg       0.65      0.64      0.60      4000\n",
            "weighted avg       0.67      0.61      0.60      4000\n",
            "\n"
          ]
        }
      ]
    },
    {
      "cell_type": "code",
      "source": [
        "# Calculating false negative rate - represents underdiagnosis\n",
        "tn, fp, fn, tp = confusion_matrix(val[\"No Finding\"], val[\"preds\"]).ravel()\n",
        "false_negative_rate = fn / (fn + tp)\n",
        "\n",
        "print(\"False Negative Rate:\", false_negative_rate)"
      ],
      "metadata": {
        "colab": {
          "base_uri": "https://localhost:8080/"
        },
        "id": "1Pr34vWZoPQa",
        "outputId": "3c5ce38b-f2ee-48fe-aa42-a3a39e3d61dd"
      },
      "execution_count": null,
      "outputs": [
        {
          "output_type": "stream",
          "name": "stdout",
          "text": [
            "False Negative Rate: 0.5601211072664359\n"
          ]
        }
      ]
    },
    {
      "cell_type": "code",
      "source": [
        "# Concatenate predicted probabilities\n",
        "all_probs = torch.cat(all_preds).cpu().numpy()\n",
        "labels = val[\"No Finding\"].to_numpy()\n",
        "\n",
        "# Calculate AUC score\n",
        "auc_score = roc_auc_score(labels, all_probs)\n",
        "print(\"AUC Score:\", auc_score)\n",
        "\n",
        "# Plot ROC Curve\n",
        "fpr, tpr, _ = roc_curve(labels, all_probs)\n",
        "plt.plot(fpr, tpr, color='darkorange', lw=2, label='ROC curve')\n",
        "plt.plot([0, 1], [0, 1], color='navy', lw=2, linestyle='--')\n",
        "plt.xlabel('False Positive Rate')\n",
        "plt.ylabel('True Positive Rate')\n",
        "plt.title('ROC Curve')\n",
        "plt.legend()\n",
        "plt.show()"
      ],
      "metadata": {
        "colab": {
          "base_uri": "https://localhost:8080/",
          "height": 489
        },
        "id": "pEt8BpWGuxv2",
        "outputId": "4cb1b3fc-3fba-4c7f-9c5c-6d934c240335"
      },
      "execution_count": null,
      "outputs": [
        {
          "output_type": "stream",
          "name": "stdout",
          "text": [
            "AUC Score: 0.6364086406795783\n"
          ]
        },
        {
          "output_type": "display_data",
          "data": {
            "text/plain": [
              "<Figure size 640x480 with 1 Axes>"
            ],
            "image/png": "[encoded data removed]"
          },
          "metadata": {}
        }
      ]
    },
    {
      "cell_type": "markdown",
      "source": [
        "# **Fairness Evaluation Techniques**"
      ],
      "metadata": {
        "id": "0msQfbNe0B3d"
      }
    },
    {
      "cell_type": "code",
      "source": [
        "# Prepare data for Aequitas\n",
        "aqdf = val.copy()\n",
        "aqdf['score'] = val['preds']\n",
        "aqdf['label_value'] = val['No Finding']\n",
        "\n",
        "aqdf.head()"
      ],
      "metadata": {
        "colab": {
          "base_uri": "https://localhost:8080/",
          "height": 392
        },
        "id": "KVYzPXZ_38X0",
        "outputId": "a414b0d9-ef00-452b-9c21-9afef4a66649"
      },
      "execution_count": null,
      "outputs": [
        {
          "output_type": "execute_result",
          "data": {
            "text/plain": [
              "            Image Index Finding Labels  Follow-up #  Patient ID  Patient Age  \\\n",
              "30523  00007964_000.png     No Finding            0        7964           52   \n",
              "28083  00007321_012.png     No Finding           12        7321           57   \n",
              "28440  00007420_004.png     No Finding            3        7420           19   \n",
              "28027  00007308_001.png     No Finding            1        7308           49   \n",
              "34294  00009007_001.png         Nodule            1        9007           50   \n",
              "\n",
              "      Patient Gender View Position   Age Group  Age Group Encoded  \\\n",
              "30523              F            AP  Age 50-100                  3   \n",
              "28083              M            PA  Age 50-100                  3   \n",
              "28440              M            PA   Age 18-30                  1   \n",
              "28027              F            PA   Age 30-50                  2   \n",
              "34294              M            PA   Age 30-50                  2   \n",
              "\n",
              "       Atelectasis  ...  Pneumothorax  Consolidation  Edema  Emphysema  \\\n",
              "30523            0  ...             0              0      0          0   \n",
              "28083            0  ...             0              0      0          0   \n",
              "28440            0  ...             0              0      0          0   \n",
              "28027            0  ...             0              0      0          0   \n",
              "34294            0  ...             0              0      0          0   \n",
              "\n",
              "       Fibrosis  Pleural_Thickening  Hernia  preds  score  label_value  \n",
              "30523         0                   0       0      0      0            1  \n",
              "28083         0                   0       0      0      0            1  \n",
              "28440         0                   0       0      1      1            1  \n",
              "28027         0                   0       0      0      0            1  \n",
              "34294         0                   0       0      1      1            0  \n",
              "\n",
              "[5 rows x 27 columns]"
            ],
            "text/html": [
              "\n",
              "  <div id=\"df-34a646dc-ab21-4617-9bd7-e09d7f3b671e\" class=\"colab-df-container\">\n",
              "    <div>\n",
              "<style scoped>\n",
              "    .dataframe tbody tr th:only-of-type {\n",
              "        vertical-align: middle;\n",
              "    }\n",
              "\n",
              "    .dataframe tbody tr th {\n",
              "        vertical-align: top;\n",
              "    }\n",
              "\n",
              "    .dataframe thead th {\n",
              "        text-align: right;\n",
              "    }\n",
              "</style>\n",
              "<table border=\"1\" class=\"dataframe\">\n",
              "  <thead>\n",
              "    <tr style=\"text-align: right;\">\n",
              "      <th></th>\n",
              "      <th>Image Index</th>\n",
              "      <th>Finding Labels</th>\n",
              "      <th>Follow-up #</th>\n",
              "      <th>Patient ID</th>\n",
              "      <th>Patient Age</th>\n",
              "      <th>Patient Gender</th>\n",
              "      <th>View Position</th>\n",
              "      <th>Age Group</th>\n",
              "      <th>Age Group Encoded</th>\n",
              "      <th>Atelectasis</th>\n",
              "      <th>...</th>\n",
              "      <th>Pneumothorax</th>\n",
              "      <th>Consolidation</th>\n",
              "      <th>Edema</th>\n",
              "      <th>Emphysema</th>\n",
              "      <th>Fibrosis</th>\n",
              "      <th>Pleural_Thickening</th>\n",
              "      <th>Hernia</th>\n",
              "      <th>preds</th>\n",
              "      <th>score</th>\n",
              "      <th>label_value</th>\n",
              "    </tr>\n",
              "  </thead>\n",
              "  <tbody>\n",
              "    <tr>\n",
              "      <th>30523</th>\n",
              "      <td>00007964_000.png</td>\n",
              "      <td>No Finding</td>\n",
              "      <td>0</td>\n",
              "      <td>7964</td>\n",
              "      <td>52</td>\n",
              "      <td>F</td>\n",
              "      <td>AP</td>\n",
              "      <td>Age 50-100</td>\n",
              "      <td>3</td>\n",
              "      <td>0</td>\n",
              "      <td>...</td>\n",
              "      <td>0</td>\n",
              "      <td>0</td>\n",
              "      <td>0</td>\n",
              "      <td>0</td>\n",
              "      <td>0</td>\n",
              "      <td>0</td>\n",
              "      <td>0</td>\n",
              "      <td>0</td>\n",
              "      <td>0</td>\n",
              "      <td>1</td>\n",
              "    </tr>\n",
              "    <tr>\n",
              "      <th>28083</th>\n",
              "      <td>00007321_012.png</td>\n",
              "      <td>No Finding</td>\n",
              "      <td>12</td>\n",
              "      <td>7321</td>\n",
              "      <td>57</td>\n",
              "      <td>M</td>\n",
              "      <td>PA</td>\n",
              "      <td>Age 50-100</td>\n",
              "      <td>3</td>\n",
              "      <td>0</td>\n",
              "      <td>...</td>\n",
              "      <td>0</td>\n",
              "      <td>0</td>\n",
              "      <td>0</td>\n",
              "      <td>0</td>\n",
              "      <td>0</td>\n",
              "      <td>0</td>\n",
              "      <td>0</td>\n",
              "      <td>0</td>\n",
              "      <td>0</td>\n",
              "      <td>1</td>\n",
              "    </tr>\n",
              "    <tr>\n",
              "      <th>28440</th>\n",
              "      <td>00007420_004.png</td>\n",
              "      <td>No Finding</td>\n",
              "      <td>3</td>\n",
              "      <td>7420</td>\n",
              "      <td>19</td>\n",
              "      <td>M</td>\n",
              "      <td>PA</td>\n",
              "      <td>Age 18-30</td>\n",
              "      <td>1</td>\n",
              "      <td>0</td>\n",
              "      <td>...</td>\n",
              "      <td>0</td>\n",
              "      <td>0</td>\n",
              "      <td>0</td>\n",
              "      <td>0</td>\n",
              "      <td>0</td>\n",
              "      <td>0</td>\n",
              "      <td>0</td>\n",
              "      <td>1</td>\n",
              "      <td>1</td>\n",
              "      <td>1</td>\n",
              "    </tr>\n",
              "    <tr>\n",
              "      <th>28027</th>\n",
              "      <td>00007308_001.png</td>\n",
              "      <td>No Finding</td>\n",
              "      <td>1</td>\n",
              "      <td>7308</td>\n",
              "      <td>49</td>\n",
              "      <td>F</td>\n",
              "      <td>PA</td>\n",
              "      <td>Age 30-50</td>\n",
              "      <td>2</td>\n",
              "      <td>0</td>\n",
              "      <td>...</td>\n",
              "      <td>0</td>\n",
              "      <td>0</td>\n",
              "      <td>0</td>\n",
              "      <td>0</td>\n",
              "      <td>0</td>\n",
              "      <td>0</td>\n",
              "      <td>0</td>\n",
              "      <td>0</td>\n",
              "      <td>0</td>\n",
              "      <td>1</td>\n",
              "    </tr>\n",
              "    <tr>\n",
              "      <th>34294</th>\n",
              "      <td>00009007_001.png</td>\n",
              "      <td>Nodule</td>\n",
              "      <td>1</td>\n",
              "      <td>9007</td>\n",
              "      <td>50</td>\n",
              "      <td>M</td>\n",
              "      <td>PA</td>\n",
              "      <td>Age 30-50</td>\n",
              "      <td>2</td>\n",
              "      <td>0</td>\n",
              "      <td>...</td>\n",
              "      <td>0</td>\n",
              "      <td>0</td>\n",
              "      <td>0</td>\n",
              "      <td>0</td>\n",
              "      <td>0</td>\n",
              "      <td>0</td>\n",
              "      <td>0</td>\n",
              "      <td>1</td>\n",
              "      <td>1</td>\n",
              "      <td>0</td>\n",
              "    </tr>\n",
              "  </tbody>\n",
              "</table>\n",
              "<p>5 rows × 27 columns</p>\n",
              "</div>\n",
              "    <div class=\"colab-df-buttons\">\n",
              "\n",
              "  <div class=\"colab-df-container\">\n",
              "    <button class=\"colab-df-convert\" onclick=\"convertToInteractive('df-34a646dc-ab21-4617-9bd7-e09d7f3b671e')\"\n",
              "            title=\"Convert this dataframe to an interactive table.\"\n",
              "            style=\"display:none;\">\n",
              "\n",
              "  <svg xmlns=\"http://www.w3.org/2000/svg\" height=\"24px\" viewBox=\"0 -960 960 960\">\n",
              "    <path d=\"M120-120v-720h720v720H120Zm60-500h600v-160H180v160Zm220 220h160v-160H400v160Zm0 220h160v-160H400v160ZM180-400h160v-160H180v160Zm440 0h160v-160H620v160ZM180-180h160v-160H180v160Zm440 0h160v-160H620v160Z\"/>\n",
              "  </svg>\n",
              "    </button>\n",
              "\n",
              "  <style>\n",
              "    .colab-df-container {\n",
              "      display:flex;\n",
              "      gap: 12px;\n",
              "    }\n",
              "\n",
              "    .colab-df-convert {\n",
              "      background-color: #E8F0FE;\n",
              "      border: none;\n",
              "      border-radius: 50%;\n",
              "      cursor: pointer;\n",
              "      display: none;\n",
              "      fill: #1967D2;\n",
              "      height: 32px;\n",
              "      padding: 0 0 0 0;\n",
              "      width: 32px;\n",
              "    }\n",
              "\n",
              "    .colab-df-convert:hover {\n",
              "      background-color: #E2EBFA;\n",
              "      box-shadow: 0px 1px 2px rgba(60, 64, 67, 0.3), 0px 1px 3px 1px rgba(60, 64, 67, 0.15);\n",
              "      fill: #174EA6;\n",
              "    }\n",
              "\n",
              "    .colab-df-buttons div {\n",
              "      margin-bottom: 4px;\n",
              "    }\n",
              "\n",
              "    [theme=dark] .colab-df-convert {\n",
              "      background-color: #3B4455;\n",
              "      fill: #D2E3FC;\n",
              "    }\n",
              "\n",
              "    [theme=dark] .colab-df-convert:hover {\n",
              "      background-color: #434B5C;\n",
              "      box-shadow: 0px 1px 3px 1px rgba(0, 0, 0, 0.15);\n",
              "      filter: drop-shadow(0px 1px 2px rgba(0, 0, 0, 0.3));\n",
              "      fill: #FFFFFF;\n",
              "    }\n",
              "  </style>\n",
              "\n",
              "    <script>\n",
              "      const buttonEl =\n",
              "        document.querySelector('#df-34a646dc-ab21-4617-9bd7-e09d7f3b671e button.colab-df-convert');\n",
              "      buttonEl.style.display =\n",
              "        google.colab.kernel.accessAllowed ? 'block' : 'none';\n",
              "\n",
              "      async function convertToInteractive(key) {\n",
              "        const element = document.querySelector('#df-34a646dc-ab21-4617-9bd7-e09d7f3b671e');\n",
              "        const dataTable =\n",
              "          await google.colab.kernel.invokeFunction('convertToInteractive',\n",
              "                                                    [key], {});\n",
              "        if (!dataTable) return;\n",
              "\n",
              "        const docLinkHtml = 'Like what you see? Visit the ' +\n",
              "          '<a target=\"_blank\" href=https://colab.research.google.com/notebooks/data_table.ipynb>data table notebook</a>'\n",
              "          + ' to learn more about interactive tables.';\n",
              "        element.innerHTML = '';\n",
              "        dataTable['output_type'] = 'display_data';\n",
              "        await google.colab.output.renderOutput(dataTable, element);\n",
              "        const docLink = document.createElement('div');\n",
              "        docLink.innerHTML = docLinkHtml;\n",
              "        element.appendChild(docLink);\n",
              "      }\n",
              "    </script>\n",
              "  </div>\n",
              "\n",
              "\n",
              "<div id=\"df-3d3bcd1e-37dc-463e-8d78-c80c53e836f0\">\n",
              "  <button class=\"colab-df-quickchart\" onclick=\"quickchart('df-3d3bcd1e-37dc-463e-8d78-c80c53e836f0')\"\n",
              "            title=\"Suggest charts\"\n",
              "            style=\"display:none;\">\n",
              "\n",
              "<svg xmlns=\"http://www.w3.org/2000/svg\" height=\"24px\"viewBox=\"0 0 24 24\"\n",
              "     width=\"24px\">\n",
              "    <g>\n",
              "        <path d=\"M19 3H5c-1.1 0-2 .9-2 2v14c0 1.1.9 2 2 2h14c1.1 0 2-.9 2-2V5c0-1.1-.9-2-2-2zM9 17H7v-7h2v7zm4 0h-2V7h2v10zm4 0h-2v-4h2v4z\"/>\n",
              "    </g>\n",
              "</svg>\n",
              "  </button>\n",
              "\n",
              "<style>\n",
              "  .colab-df-quickchart {\n",
              "      --bg-color: #E8F0FE;\n",
              "      --fill-color: #1967D2;\n",
              "      --hover-bg-color: #E2EBFA;\n",
              "      --hover-fill-color: #174EA6;\n",
              "      --disabled-fill-color: #AAA;\n",
              "      --disabled-bg-color: #DDD;\n",
              "  }\n",
              "\n",
              "  [theme=dark] .colab-df-quickchart {\n",
              "      --bg-color: #3B4455;\n",
              "      --fill-color: #D2E3FC;\n",
              "      --hover-bg-color: #434B5C;\n",
              "      --hover-fill-color: #FFFFFF;\n",
              "      --disabled-bg-color: #3B4455;\n",
              "      --disabled-fill-color: #666;\n",
              "  }\n",
              "\n",
              "  .colab-df-quickchart {\n",
              "    background-color: var(--bg-color);\n",
              "    border: none;\n",
              "    border-radius: 50%;\n",
              "    cursor: pointer;\n",
              "    display: none;\n",
              "    fill: var(--fill-color);\n",
              "    height: 32px;\n",
              "    padding: 0;\n",
              "    width: 32px;\n",
              "  }\n",
              "\n",
              "  .colab-df-quickchart:hover {\n",
              "    background-color: var(--hover-bg-color);\n",
              "    box-shadow: 0 1px 2px rgba(60, 64, 67, 0.3), 0 1px 3px 1px rgba(60, 64, 67, 0.15);\n",
              "    fill: var(--button-hover-fill-color);\n",
              "  }\n",
              "\n",
              "  .colab-df-quickchart-complete:disabled,\n",
              "  .colab-df-quickchart-complete:disabled:hover {\n",
              "    background-color: var(--disabled-bg-color);\n",
              "    fill: var(--disabled-fill-color);\n",
              "    box-shadow: none;\n",
              "  }\n",
              "\n",
              "  .colab-df-spinner {\n",
              "    border: 2px solid var(--fill-color);\n",
              "    border-color: transparent;\n",
              "    border-bottom-color: var(--fill-color);\n",
              "    animation:\n",
              "      spin 1s steps(1) infinite;\n",
              "  }\n",
              "\n",
              "  @keyframes spin {\n",
              "    0% {\n",
              "      border-color: transparent;\n",
              "      border-bottom-color: var(--fill-color);\n",
              "      border-left-color: var(--fill-color);\n",
              "    }\n",
              "    20% {\n",
              "      border-color: transparent;\n",
              "      border-left-color: var(--fill-color);\n",
              "      border-top-color: var(--fill-color);\n",
              "    }\n",
              "    30% {\n",
              "      border-color: transparent;\n",
              "      border-left-color: var(--fill-color);\n",
              "      border-top-color: var(--fill-color);\n",
              "      border-right-color: var(--fill-color);\n",
              "    }\n",
              "    40% {\n",
              "      border-color: transparent;\n",
              "      border-right-color: var(--fill-color);\n",
              "      border-top-color: var(--fill-color);\n",
              "    }\n",
              "    60% {\n",
              "      border-color: transparent;\n",
              "      border-right-color: var(--fill-color);\n",
              "    }\n",
              "    80% {\n",
              "      border-color: transparent;\n",
              "      border-right-color: var(--fill-color);\n",
              "      border-bottom-color: var(--fill-color);\n",
              "    }\n",
              "    90% {\n",
              "      border-color: transparent;\n",
              "      border-bottom-color: var(--fill-color);\n",
              "    }\n",
              "  }\n",
              "</style>\n",
              "\n",
              "  <script>\n",
              "    async function quickchart(key) {\n",
              "      const quickchartButtonEl =\n",
              "        document.querySelector('#' + key + ' button');\n",
              "      quickchartButtonEl.disabled = true;  // To prevent multiple clicks.\n",
              "      quickchartButtonEl.classList.add('colab-df-spinner');\n",
              "      try {\n",
              "        const charts = await google.colab.kernel.invokeFunction(\n",
              "            'suggestCharts', [key], {});\n",
              "      } catch (error) {\n",
              "        console.error('Error during call to suggestCharts:', error);\n",
              "      }\n",
              "      quickchartButtonEl.classList.remove('colab-df-spinner');\n",
              "      quickchartButtonEl.classList.add('colab-df-quickchart-complete');\n",
              "    }\n",
              "    (() => {\n",
              "      let quickchartButtonEl =\n",
              "        document.querySelector('#df-3d3bcd1e-37dc-463e-8d78-c80c53e836f0 button');\n",
              "      quickchartButtonEl.style.display =\n",
              "        google.colab.kernel.accessAllowed ? 'block' : 'none';\n",
              "    })();\n",
              "  </script>\n",
              "</div>\n",
              "    </div>\n",
              "  </div>\n"
            ]
          },
          "metadata": {},
          "execution_count": 26
        }
      ]
    },
    {
      "cell_type": "markdown",
      "source": [
        "**For Gender**"
      ],
      "metadata": {
        "id": "Z_-hS15iFSkH"
      }
    },
    {
      "cell_type": "code",
      "source": [
        "attributes_and_reference_groups={'Patient Gender':'M'}\n",
        "attributes_to_audit = list(attributes_and_reference_groups.keys())"
      ],
      "metadata": {
        "id": "XzFoMFpR5B4p"
      },
      "execution_count": 102,
      "outputs": []
    },
    {
      "cell_type": "code",
      "source": [
        "metrics = ['precision','for']\n",
        "disparity_tolerance = 1.25"
      ],
      "metadata": {
        "id": "VtIxNr7A5IS4"
      },
      "execution_count": 103,
      "outputs": []
    },
    {
      "cell_type": "code",
      "source": [
        "# Initialize Aequitas\n",
        "g = Group()\n",
        "b = Bias()\n",
        "\n",
        "# get_crosstabs returns a dataframe of the group counts and group value bias metrics.\n",
        "xtab, _ = g.get_crosstabs(aqdf, attr_cols=attributes_to_audit)\n",
        "bdf = b.get_disparity_predefined_groups(xtab, original_df=aqdf, ref_groups_dict=attributes_and_reference_groups)"
      ],
      "metadata": {
        "colab": {
          "base_uri": "https://localhost:8080/"
        },
        "id": "fAo-6pS55Jxr",
        "outputId": "07cfd499-1ec9-4bab-d18c-d2c058bd2648"
      },
      "execution_count": 104,
      "outputs": [
        {
          "output_type": "stream",
          "name": "stdout",
          "text": [
            "get_disparity_predefined_group()\n"
          ]
        }
      ]
    },
    {
      "cell_type": "code",
      "source": [
        "# baseline value always passes\n",
        "ap.summary(bdf, metrics, fairness_threshold = disparity_tolerance)"
      ],
      "metadata": {
        "colab": {
          "base_uri": "https://localhost:8080/",
          "height": 379
        },
        "id": "CpUiZoP95LXn",
        "outputId": "35a11fec-7ee1-4335-e9fe-c0180392a99e"
      },
      "execution_count": 105,
      "outputs": [
        {
          "output_type": "stream",
          "name": "stderr",
          "text": [
            "/usr/local/lib/python3.10/dist-packages/altair/utils/core.py:283: FutureWarning: iteritems is deprecated and will be removed in a future version. Use .items instead.\n",
            "  for col_name, dtype in df.dtypes.iteritems():\n"
          ]
        },
        {
          "output_type": "execute_result",
          "data": {
            "text/html": [
              "\n",
              "<div id=\"altair-viz-e80af53d7a554799a1425e8025623de2\"></div>\n",
              "<script type=\"text/javascript\">\n",
              "  (function(spec, embedOpt){\n",
              "    let outputDiv = document.currentScript.previousElementSibling;\n",
              "    if (outputDiv.id !== \"altair-viz-e80af53d7a554799a1425e8025623de2\") {\n",
              "      outputDiv = document.getElementById(\"altair-viz-e80af53d7a554799a1425e8025623de2\");\n",
              "    }\n",
              "    const paths = {\n",
              "      \"vega\": \"https://cdn.jsdelivr.net/npm//vega@5?noext\",\n",
              "      \"vega-lib\": \"https://cdn.jsdelivr.net/npm//vega-lib?noext\",\n",
              "      \"vega-lite\": \"https://cdn.jsdelivr.net/npm//vega-lite@4.8.1?noext\",\n",
              "      \"vega-embed\": \"https://cdn.jsdelivr.net/npm//vega-embed@6?noext\",\n",
              "    };\n",
              "\n",
              "    function loadScript(lib) {\n",
              "      return new Promise(function(resolve, reject) {\n",
              "        var s = document.createElement('script');\n",
              "        s.src = paths[lib];\n",
              "        s.async = true;\n",
              "        s.onload = () => resolve(paths[lib]);\n",
              "        s.onerror = () => reject(`Error loading script: ${paths[lib]}`);\n",
              "        document.getElementsByTagName(\"head\")[0].appendChild(s);\n",
              "      });\n",
              "    }\n",
              "\n",
              "    function showError(err) {\n",
              "      outputDiv.innerHTML = `<div class=\"error\" style=\"color:red;\">${err}</div>`;\n",
              "      throw err;\n",
              "    }\n",
              "\n",
              "    function displayChart(vegaEmbed) {\n",
              "      vegaEmbed(outputDiv, spec, embedOpt)\n",
              "        .catch(err => showError(`Javascript Error: ${err.message}<br>This usually means there's a typo in your chart specification. See the javascript console for the full traceback.`));\n",
              "    }\n",
              "\n",
              "    if(typeof define === \"function\" && define.amd) {\n",
              "      requirejs.config({paths});\n",
              "      require([\"vega-embed\"], displayChart, err => showError(`Error loading script: ${err.message}`));\n",
              "    } else if (typeof vegaEmbed === \"function\") {\n",
              "      displayChart(vegaEmbed);\n",
              "    } else {\n",
              "      loadScript(\"vega\")\n",
              "        .then(() => loadScript(\"vega-lite\"))\n",
              "        .then(() => loadScript(\"vega-embed\"))\n",
              "        .catch(showError)\n",
              "        .then(() => displayChart(vegaEmbed));\n",
              "    }\n",
              "  })({\"config\": {\"view\": {\"continuousWidth\": 400, \"continuousHeight\": 300, \"strokeWidth\": 0}, \"legend\": {\"labelColor\": \"rgb(117,117,117)\", \"labelFont\": \"Arial\", \"labelFontSize\": 12, \"titleColor\": \"rgb(117,117,117)\", \"titleFont\": \"Arial\", \"titleFontSize\": 14, \"titleFontWeight\": \"normal\", \"titlePadding\": 15}}, \"vconcat\": [{\"hconcat\": [{\"vconcat\": [{\"mark\": {\"type\": \"text\", \"align\": \"center\", \"baseline\": \"middle\", \"color\": \"rgb(117,117,117)\", \"font\": \"Arial\", \"fontWeight\": \"bold\", \"size\": 14}, \"encoding\": {\"text\": {\"value\": \"\"}}, \"height\": 32.25, \"width\": 32.0}, {\"layer\": [{\"mark\": {\"type\": \"text\", \"align\": \"center\", \"baseline\": \"middle\", \"color\": \"rgb(117,117,117)\", \"font\": \"Arial\", \"fontWeight\": \"bold\", \"size\": 14}, \"encoding\": {\"text\": {\"value\": \"PRECISION\"}, \"y\": {\"type\": \"quantitative\", \"axis\": {\"domain\": false, \"grid\": false, \"labels\": false, \"ticks\": false, \"title\": \" \"}, \"field\": \"y_position\", \"scale\": {\"domain\": [3, 1]}}}, \"transform\": [{\"calculate\": \"1.2\", \"as\": \"y_position\"}]}, {\"mark\": {\"type\": \"text\", \"align\": \"center\", \"baseline\": \"middle\", \"color\": \"rgb(117,117,117)\", \"font\": \"Arial\", \"size\": 12}, \"encoding\": {\"text\": {\"value\": \"Groups\"}, \"y\": {\"type\": \"quantitative\", \"axis\": {\"domain\": false, \"grid\": false, \"labels\": false, \"ticks\": false, \"title\": \" \"}, \"field\": \"y_position\", \"scale\": {\"domain\": [3, 1]}}}, \"transform\": [{\"calculate\": \"2\", \"as\": \"y_position\"}]}, {\"mark\": {\"type\": \"text\", \"align\": \"center\", \"baseline\": \"middle\", \"color\": \"rgb(117,117,117)\", \"font\": \"Arial\", \"size\": 12}, \"encoding\": {\"text\": {\"value\": \"% Pop.\"}, \"y\": {\"type\": \"quantitative\", \"axis\": {\"domain\": false, \"grid\": false, \"labels\": false, \"ticks\": false, \"title\": \" \"}, \"field\": \"y_position\", \"scale\": {\"domain\": [3, 1]}}}, \"transform\": [{\"calculate\": \"2.7\", \"as\": \"y_position\"}]}], \"height\": 69.875, \"width\": 32.0}, {\"layer\": [{\"mark\": {\"type\": \"text\", \"align\": \"center\", \"baseline\": \"middle\", \"color\": \"rgb(117,117,117)\", \"font\": \"Arial\", \"fontWeight\": \"bold\", \"size\": 14}, \"encoding\": {\"text\": {\"value\": \"FOR\"}, \"y\": {\"type\": \"quantitative\", \"axis\": {\"domain\": false, \"grid\": false, \"labels\": false, \"ticks\": false, \"title\": \" \"}, \"field\": \"y_position\", \"scale\": {\"domain\": [3, 1]}}}, \"transform\": [{\"calculate\": \"1.2\", \"as\": \"y_position\"}]}, {\"mark\": {\"type\": \"text\", \"align\": \"center\", \"baseline\": \"middle\", \"color\": \"rgb(117,117,117)\", \"font\": \"Arial\", \"size\": 12}, \"encoding\": {\"text\": {\"value\": \"Groups\"}, \"y\": {\"type\": \"quantitative\", \"axis\": {\"domain\": false, \"grid\": false, \"labels\": false, \"ticks\": false, \"title\": \" \"}, \"field\": \"y_position\", \"scale\": {\"domain\": [3, 1]}}}, \"transform\": [{\"calculate\": \"2\", \"as\": \"y_position\"}]}, {\"mark\": {\"type\": \"text\", \"align\": \"center\", \"baseline\": \"middle\", \"color\": \"rgb(117,117,117)\", \"font\": \"Arial\", \"size\": 12}, \"encoding\": {\"text\": {\"value\": \"% Pop.\"}, \"y\": {\"type\": \"quantitative\", \"axis\": {\"domain\": false, \"grid\": false, \"labels\": false, \"ticks\": false, \"title\": \" \"}, \"field\": \"y_position\", \"scale\": {\"domain\": [3, 1]}}}, \"transform\": [{\"calculate\": \"2.7\", \"as\": \"y_position\"}]}], \"height\": 69.875, \"width\": 32.0}], \"bounds\": \"flush\", \"data\": {\"name\": \"data-79dd248bdaa0ea02c535240e8ad022c8\"}, \"spacing\": 21.5}, {\"hconcat\": [{\"vconcat\": [{\"data\": {\"name\": \"data-79dd248bdaa0ea02c535240e8ad022c8\"}, \"mark\": {\"type\": \"text\", \"align\": \"center\", \"baseline\": \"middle\", \"color\": \"rgb(117,117,117)\", \"font\": \"Arial\", \"fontWeight\": \"bold\", \"size\": 14}, \"encoding\": {\"text\": {\"value\": \"Patient Gender\"}}, \"height\": 32.25, \"width\": 240.0}, {\"layer\": [{\"data\": {\"name\": \"data-126d4ae515fac080ab56453e43289c66\"}, \"mark\": {\"type\": \"text\", \"align\": \"center\", \"baseline\": \"middle\", \"font\": \"Arial\", \"fontWeight\": \"bold\", \"size\": 20}, \"encoding\": {\"color\": {\"type\": \"ordinal\", \"field\": \"parity_result\", \"legend\": {\"title\": \"\"}, \"scale\": {\"domain\": [\"Reference\", \"Pass\", \"Fail\"], \"range\": [\"rgb(117,117,117)\", \"rgb(20, 152, 181)\", \"rgb(217, 46, 28)\"]}}, \"text\": {\"value\": \"PASS\"}, \"y\": {\"type\": \"quantitative\", \"axis\": {\"domain\": false, \"grid\": false, \"labels\": false, \"ticks\": false, \"title\": \" \"}, \"field\": \"y_position\", \"scale\": {\"domain\": [3, 1]}}}, \"transform\": [{\"calculate\": \"1\", \"as\": \"y_position\"}]}, {\"data\": {\"name\": \"data-003829d36ea0ece19b953ceab2b895bb\"}, \"mark\": {\"type\": \"bar\", \"size\": 6, \"stroke\": \"white\"}, \"encoding\": {\"color\": {\"type\": \"ordinal\", \"field\": \"precision_parity_result\", \"legend\": {\"padding\": 20, \"title\": \"Parity Test\"}, \"scale\": {\"domain\": [\"Reference\", \"Pass\", \"Fail\"], \"range\": [\"rgb(117,117,117)\", \"rgb(20, 152, 181)\", \"rgb(217, 46, 28)\"]}}, \"tooltip\": [{\"type\": \"nominal\", \"field\": \"precision_parity_result\", \"title\": \"Parity\"}, {\"type\": \"nominal\", \"field\": \"tooltip_group_size\", \"title\": \"Size\"}, {\"type\": \"nominal\", \"field\": \"tooltip_groups_name_size\", \"title\": \"Groups\"}], \"x\": {\"type\": \"quantitative\", \"aggregate\": \"sum\", \"axis\": {\"domain\": false, \"grid\": false, \"labels\": false, \"ticks\": false, \"title\": \" \"}, \"field\": \"group_size\", \"stack\": \"normalize\"}, \"y\": {\"type\": \"quantitative\", \"axis\": {\"domain\": false, \"grid\": false, \"labels\": false, \"ticks\": false, \"title\": \" \"}, \"field\": \"y_position\", \"scale\": {\"domain\": [3, 1]}}}, \"transform\": [{\"calculate\": \"2.8\", \"as\": \"y_position\"}]}, {\"data\": {\"name\": \"data-6ba54d9e5193896a1f442a78811f304d\"}, \"mark\": {\"type\": \"circle\", \"opacity\": 1}, \"encoding\": {\"color\": {\"type\": \"ordinal\", \"field\": \"precision_parity_result\", \"legend\": {\"title\": \"\"}, \"scale\": {\"domain\": [\"Reference\", \"Pass\", \"Fail\"], \"range\": [\"rgb(117,117,117)\", \"rgb(20, 152, 181)\", \"rgb(217, 46, 28)\"]}}, \"size\": {\"value\": 300}, \"tooltip\": [{\"type\": \"nominal\", \"field\": \"attribute_value\", \"title\": \"Group\"}, {\"type\": \"nominal\", \"field\": \"tooltip_group_size\", \"title\": \"Group Size\"}, {\"type\": \"nominal\", \"field\": \"tooltip_parity_test_explanation_precision\", \"title\": \"Parity Test\"}, {\"type\": \"nominal\", \"field\": \"tooltip_disparity_explanation_precision\", \"title\": \"Disparity\"}, {\"type\": \"quantitative\", \"field\": \"precision\", \"format\": \".2f\", \"title\": \"PRECISION\"}], \"x\": {\"type\": \"quantitative\", \"axis\": {\"domain\": false, \"grid\": false, \"labels\": false, \"ticks\": false, \"title\": \" \"}, \"field\": \"precision_disparity_rank\", \"scale\": {\"domain\": [-2, 2], \"nice\": false}}, \"y\": {\"type\": \"quantitative\", \"axis\": {\"domain\": false, \"grid\": false, \"labels\": false, \"ticks\": false, \"title\": \" \"}, \"field\": \"y_position\", \"scale\": {\"domain\": [3, 1]}}}, \"transform\": [{\"calculate\": \"2\", \"as\": \"y_position\"}]}], \"height\": 69.875, \"resolve\": {\"scale\": {\"x\": \"independent\"}}, \"width\": 240.0}, {\"layer\": [{\"data\": {\"name\": \"data-126d4ae515fac080ab56453e43289c66\"}, \"mark\": {\"type\": \"text\", \"align\": \"center\", \"baseline\": \"middle\", \"font\": \"Arial\", \"fontWeight\": \"bold\", \"size\": 20}, \"encoding\": {\"color\": {\"type\": \"ordinal\", \"field\": \"parity_result\", \"legend\": {\"title\": \"\"}, \"scale\": {\"domain\": [\"Reference\", \"Pass\", \"Fail\"], \"range\": [\"rgb(117,117,117)\", \"rgb(20, 152, 181)\", \"rgb(217, 46, 28)\"]}}, \"text\": {\"value\": \"PASS\"}, \"y\": {\"type\": \"quantitative\", \"axis\": {\"domain\": false, \"grid\": false, \"labels\": false, \"ticks\": false, \"title\": \" \"}, \"field\": \"y_position\", \"scale\": {\"domain\": [3, 1]}}}, \"transform\": [{\"calculate\": \"1\", \"as\": \"y_position\"}]}, {\"data\": {\"name\": \"data-16f2e71351b044a7534351829fc4de14\"}, \"mark\": {\"type\": \"bar\", \"size\": 6, \"stroke\": \"white\"}, \"encoding\": {\"color\": {\"type\": \"ordinal\", \"field\": \"for_parity_result\", \"legend\": {\"padding\": 20, \"title\": \"Parity Test\"}, \"scale\": {\"domain\": [\"Reference\", \"Pass\", \"Fail\"], \"range\": [\"rgb(117,117,117)\", \"rgb(20, 152, 181)\", \"rgb(217, 46, 28)\"]}}, \"tooltip\": [{\"type\": \"nominal\", \"field\": \"for_parity_result\", \"title\": \"Parity\"}, {\"type\": \"nominal\", \"field\": \"tooltip_group_size\", \"title\": \"Size\"}, {\"type\": \"nominal\", \"field\": \"tooltip_groups_name_size\", \"title\": \"Groups\"}], \"x\": {\"type\": \"quantitative\", \"aggregate\": \"sum\", \"axis\": {\"domain\": false, \"grid\": false, \"labels\": false, \"ticks\": false, \"title\": \" \"}, \"field\": \"group_size\", \"stack\": \"normalize\"}, \"y\": {\"type\": \"quantitative\", \"axis\": {\"domain\": false, \"grid\": false, \"labels\": false, \"ticks\": false, \"title\": \" \"}, \"field\": \"y_position\", \"scale\": {\"domain\": [3, 1]}}}, \"transform\": [{\"calculate\": \"2.8\", \"as\": \"y_position\"}]}, {\"data\": {\"name\": \"data-6ba54d9e5193896a1f442a78811f304d\"}, \"mark\": {\"type\": \"circle\", \"opacity\": 1}, \"encoding\": {\"color\": {\"type\": \"ordinal\", \"field\": \"for_parity_result\", \"legend\": {\"title\": \"\"}, \"scale\": {\"domain\": [\"Reference\", \"Pass\", \"Fail\"], \"range\": [\"rgb(117,117,117)\", \"rgb(20, 152, 181)\", \"rgb(217, 46, 28)\"]}}, \"size\": {\"value\": 300}, \"tooltip\": [{\"type\": \"nominal\", \"field\": \"attribute_value\", \"title\": \"Group\"}, {\"type\": \"nominal\", \"field\": \"tooltip_group_size\", \"title\": \"Group Size\"}, {\"type\": \"nominal\", \"field\": \"tooltip_parity_test_explanation_for\", \"title\": \"Parity Test\"}, {\"type\": \"nominal\", \"field\": \"tooltip_disparity_explanation_for\", \"title\": \"Disparity\"}, {\"type\": \"quantitative\", \"field\": \"for\", \"format\": \".2f\", \"title\": \"FOR\"}], \"x\": {\"type\": \"quantitative\", \"axis\": {\"domain\": false, \"grid\": false, \"labels\": false, \"ticks\": false, \"title\": \" \"}, \"field\": \"for_disparity_rank\", \"scale\": {\"domain\": [-2, 2], \"nice\": false}}, \"y\": {\"type\": \"quantitative\", \"axis\": {\"domain\": false, \"grid\": false, \"labels\": false, \"ticks\": false, \"title\": \" \"}, \"field\": \"y_position\", \"scale\": {\"domain\": [3, 1]}}}, \"transform\": [{\"calculate\": \"2\", \"as\": \"y_position\"}]}], \"height\": 69.875, \"resolve\": {\"scale\": {\"x\": \"independent\"}}, \"width\": 240.0}], \"bounds\": \"flush\", \"spacing\": 21.5}], \"bounds\": \"flush\", \"spacing\": 288.0}], \"bounds\": \"flush\", \"spacing\": 80.0}, {\"layer\": [{\"mark\": {\"type\": \"text\", \"align\": \"left\", \"baseline\": \"top\", \"fill\": \"rgb(117,117,117)\", \"font\": \"Arial\", \"fontSize\": 12, \"fontWeight\": \"normal\"}, \"encoding\": {\"text\": {\"value\": \"For a group to pass the parity test its disparity to the reference group cannot exceed the fairness threshold (1.25).\"}, \"x\": {\"value\": 24.0}, \"y\": {\"value\": 0}}}, {\"mark\": {\"type\": \"text\", \"align\": \"left\", \"baseline\": \"top\", \"fill\": \"rgb(117,117,117)\", \"font\": \"Arial\", \"fontSize\": 12, \"fontWeight\": \"normal\"}, \"encoding\": {\"text\": {\"value\": \"An attribute passes the parity test for a given metric if all its groups pass the test.\"}, \"x\": {\"value\": 24.0}, \"y\": {\"value\": 15.0}}}], \"data\": {\"name\": \"data-79dd248bdaa0ea02c535240e8ad022c8\"}}], \"padding\": {\"top\": 15, \"bottom\": 10}, \"$schema\": \"https://vega.github.io/schema/vega-lite/v4.8.1.json\", \"datasets\": {\"data-79dd248bdaa0ea02c535240e8ad022c8\": [{\"a\": 1, \"b\": 0}, {\"a\": 1, \"b\": 0}], \"data-126d4ae515fac080ab56453e43289c66\": [{\"parity_result\": \"Pass\"}], \"data-003829d36ea0ece19b953ceab2b895bb\": [{\"precision_parity_result\": \"Pass\", \"attribute_name\": \"Patient Gender\", \"total_entities\": 4000, \"group_size\": 1847, \"tooltip_groups_name_size\": \"F (1,847)\", \"tooltip_group_size\": \"1,847 (46.17%)\"}, {\"precision_parity_result\": \"Reference\", \"attribute_name\": \"Patient Gender\", \"total_entities\": 4000, \"group_size\": 2153, \"tooltip_groups_name_size\": \"M (2,153)\", \"tooltip_group_size\": \"2,153 (53.83%)\"}], \"data-6ba54d9e5193896a1f442a78811f304d\": [{\"attribute_name\": \"Patient Gender\", \"attribute_value\": \"F\", \"group_size\": 1847, \"total_entities\": 4000, \"ref_group_value\": \"M\", \"precision\": 0.6734513274336283, \"for\": 0.39748953974895396, \"precision_disparity\": 0.9944094002375845, \"for_disparity\": 1.0648077451669058, \"precision_disparity_scaled\": -0.0056220302835832126, \"precision_parity_result\": \"Pass\", \"tooltip_parity_test_explanation_precision\": \"Pass. Below fairness threshold of 1.25\", \"tooltip_disparity_explanation_precision\": \"1.01 times smaller PRECISION than the reference group\", \"tooltip_group_size\": \"1,847 (46.17%)\", \"precision_disparity_rank\": -1.0, \"group_size_formatted\": \"1,847\", \"tooltip_groups_name_size\": \"F (1,847)\", \"for_disparity_scaled\": 0.0648077451669058, \"for_parity_result\": \"Pass\", \"tooltip_parity_test_explanation_for\": \"Pass. Below fairness threshold of 1.25\", \"tooltip_disparity_explanation_for\": \"1.06 times larger FOR than the reference group\", \"for_disparity_rank\": 1.0}, {\"attribute_name\": \"Patient Gender\", \"attribute_value\": \"M\", \"group_size\": 2153, \"total_entities\": 4000, \"ref_group_value\": \"M\", \"precision\": 0.6772374911909795, \"for\": 0.37329700272479566, \"precision_disparity\": 1.0, \"for_disparity\": 1.0, \"precision_disparity_scaled\": 0.0, \"precision_parity_result\": \"Reference\", \"tooltip_parity_test_explanation_precision\": \"Reference group\", \"tooltip_disparity_explanation_precision\": \"Reference group\", \"tooltip_group_size\": \"2,153 (53.83%)\", \"precision_disparity_rank\": 0.0, \"group_size_formatted\": \"2,153\", \"tooltip_groups_name_size\": \"M (2,153)\", \"for_disparity_scaled\": 0.0, \"for_parity_result\": \"Reference\", \"tooltip_parity_test_explanation_for\": \"Reference group\", \"tooltip_disparity_explanation_for\": \"Reference group\", \"for_disparity_rank\": 0.0}], \"data-16f2e71351b044a7534351829fc4de14\": [{\"for_parity_result\": \"Pass\", \"attribute_name\": \"Patient Gender\", \"total_entities\": 4000, \"group_size\": 1847, \"tooltip_groups_name_size\": \"F (1,847)\", \"tooltip_group_size\": \"1,847 (46.17%)\"}, {\"for_parity_result\": \"Reference\", \"attribute_name\": \"Patient Gender\", \"total_entities\": 4000, \"group_size\": 2153, \"tooltip_groups_name_size\": \"M (2,153)\", \"tooltip_group_size\": \"2,153 (53.83%)\"}]}}, {\"mode\": \"vega-lite\"});\n",
              "</script>"
            ],
            "text/plain": [
              "alt.VConcatChart(...)"
            ]
          },
          "metadata": {},
          "execution_count": 105
        }
      ]
    },
    {
      "cell_type": "code",
      "source": [
        "ap.disparity(bdf, metrics, 'Patient Gender', fairness_threshold = disparity_tolerance)"
      ],
      "metadata": {
        "colab": {
          "base_uri": "https://localhost:8080/",
          "height": 525
        },
        "id": "_DVLlybP5Q3u",
        "outputId": "43e8b7d2-e524-422e-ef6f-b81608d0390f"
      },
      "execution_count": 106,
      "outputs": [
        {
          "output_type": "stream",
          "name": "stderr",
          "text": [
            "/usr/local/lib/python3.10/dist-packages/altair/utils/core.py:283: FutureWarning: iteritems is deprecated and will be removed in a future version. Use .items instead.\n",
            "  for col_name, dtype in df.dtypes.iteritems():\n"
          ]
        },
        {
          "output_type": "execute_result",
          "data": {
            "text/html": [
              "\n",
              "<div id=\"altair-viz-f365e9e3dc854badb0c2db94cb8852a2\"></div>\n",
              "<script type=\"text/javascript\">\n",
              "  (function(spec, embedOpt){\n",
              "    let outputDiv = document.currentScript.previousElementSibling;\n",
              "    if (outputDiv.id !== \"altair-viz-f365e9e3dc854badb0c2db94cb8852a2\") {\n",
              "      outputDiv = document.getElementById(\"altair-viz-f365e9e3dc854badb0c2db94cb8852a2\");\n",
              "    }\n",
              "    const paths = {\n",
              "      \"vega\": \"https://cdn.jsdelivr.net/npm//vega@5?noext\",\n",
              "      \"vega-lib\": \"https://cdn.jsdelivr.net/npm//vega-lib?noext\",\n",
              "      \"vega-lite\": \"https://cdn.jsdelivr.net/npm//vega-lite@4.8.1?noext\",\n",
              "      \"vega-embed\": \"https://cdn.jsdelivr.net/npm//vega-embed@6?noext\",\n",
              "    };\n",
              "\n",
              "    function loadScript(lib) {\n",
              "      return new Promise(function(resolve, reject) {\n",
              "        var s = document.createElement('script');\n",
              "        s.src = paths[lib];\n",
              "        s.async = true;\n",
              "        s.onload = () => resolve(paths[lib]);\n",
              "        s.onerror = () => reject(`Error loading script: ${paths[lib]}`);\n",
              "        document.getElementsByTagName(\"head\")[0].appendChild(s);\n",
              "      });\n",
              "    }\n",
              "\n",
              "    function showError(err) {\n",
              "      outputDiv.innerHTML = `<div class=\"error\" style=\"color:red;\">${err}</div>`;\n",
              "      throw err;\n",
              "    }\n",
              "\n",
              "    function displayChart(vegaEmbed) {\n",
              "      vegaEmbed(outputDiv, spec, embedOpt)\n",
              "        .catch(err => showError(`Javascript Error: ${err.message}<br>This usually means there's a typo in your chart specification. See the javascript console for the full traceback.`));\n",
              "    }\n",
              "\n",
              "    if(typeof define === \"function\" && define.amd) {\n",
              "      requirejs.config({paths});\n",
              "      require([\"vega-embed\"], displayChart, err => showError(`Error loading script: ${err.message}`));\n",
              "    } else if (typeof vegaEmbed === \"function\") {\n",
              "      displayChart(vegaEmbed);\n",
              "    } else {\n",
              "      loadScript(\"vega\")\n",
              "        .then(() => loadScript(\"vega-lite\"))\n",
              "        .then(() => loadScript(\"vega-embed\"))\n",
              "        .catch(showError)\n",
              "        .then(() => displayChart(vegaEmbed));\n",
              "    }\n",
              "  })({\"config\": {\"view\": {\"continuousWidth\": 400, \"continuousHeight\": 300, \"strokeWidth\": 0}, \"axisLeft\": {\"labelColor\": \"rgb(117,117,117)\", \"labelFont\": \"Arial\", \"labelFontSize\": 16}, \"title\": {\"align\": \"center\", \"baseline\": \"middle\", \"color\": \"rgb(117,117,117)\", \"font\": \"Arial\", \"fontSize\": 20, \"fontWeight\": \"bold\"}}, \"layer\": [{\"data\": {\"name\": \"data-350ed79bf9771e86190a53803c45c7fa\"}, \"mark\": {\"type\": \"rule\", \"stroke\": \"rgb(117,117,117)\", \"strokeWidth\": 1.25, \"tooltip\": \"\"}, \"encoding\": {\"x\": {\"type\": \"quantitative\", \"field\": \"x\", \"scale\": {\"domain\": [-2, 2], \"range\": [40.0, 760.0]}}, \"x2\": {\"field\": \"x2\"}, \"y\": {\"type\": \"nominal\", \"axis\": {\"domain\": false, \"labelAngle\": 0, \"labelPadding\": -30, \"orient\": \"left\", \"ticks\": false, \"title\": \"\"}, \"field\": \"metric\", \"scale\": {\"domain\": [\"PRECISION\", \"FOR\"], \"range\": [40.0, 360.0]}}}}, {\"data\": {\"name\": \"data-79dd248bdaa0ea02c535240e8ad022c8\"}, \"mark\": {\"type\": \"rule\", \"stroke\": \"rgb(117,117,117)\", \"strokeDash\": [5, 5], \"strokeWidth\": 1}, \"encoding\": {\"tooltip\": {\"value\": \"M [REF]\"}, \"x\": {\"value\": 400.0}, \"y\": {\"value\": 33.333333333333336}, \"y2\": {\"value\": 366.66666666666663}}}, {\"data\": {\"name\": \"data-c233327f4cd9b4c2df31bf8015c83e4a\"}, \"mark\": {\"type\": \"text\", \"align\": \"center\", \"color\": \"rgb(117,117,117)\", \"font\": \"Arial\", \"fontSize\": 12, \"fontWeight\": \"normal\", \"tooltip\": \"\"}, \"encoding\": {\"text\": {\"type\": \"nominal\", \"field\": \"label\"}, \"x\": {\"type\": \"quantitative\", \"field\": \"value\", \"scale\": {\"domain\": [-2, 2], \"range\": [40.0, 760.0]}}, \"y\": {\"value\": 28.0}}}, {\"layer\": [{\"mark\": {\"type\": \"text\", \"align\": \"left\", \"fill\": \"rgb(117,117,117)\", \"font\": \"Arial\", \"fontSize\": 12, \"fontWeight\": \"normal\", \"tooltip\": \"\"}, \"encoding\": {\"text\": {\"value\": \"Times Smaller\"}, \"x\": {\"value\": 40.0}, \"y\": {\"value\": 12.0}}}, {\"mark\": {\"type\": \"text\", \"align\": \"right\", \"fill\": \"rgb(117,117,117)\", \"font\": \"Arial\", \"fontSize\": 12, \"fontWeight\": \"normal\", \"tooltip\": \"\"}, \"encoding\": {\"text\": {\"value\": \"Times Larger\"}, \"x\": {\"value\": 760.0}, \"y\": {\"value\": 12.0}}}, {\"mark\": {\"type\": \"text\", \"align\": \"center\", \"fill\": \"rgb(117,117,117)\", \"font\": \"Arial\", \"fontSize\": 12, \"fontWeight\": \"normal\", \"tooltip\": \"\"}, \"encoding\": {\"text\": {\"value\": \"Equal\"}, \"x\": {\"value\": 400.0}, \"y\": {\"value\": 12.0}}}], \"data\": {\"name\": \"data-79dd248bdaa0ea02c535240e8ad022c8\"}}, {\"layer\": [{\"mark\": {\"type\": \"rule\", \"opacity\": 0.8, \"stroke\": \"rgb(217, 46, 28)\", \"strokeWidth\": 1.25, \"tooltip\": \"\"}, \"encoding\": {\"x\": {\"type\": \"quantitative\", \"field\": \"min\", \"scale\": {\"domain\": [-2, 2], \"range\": [40.0, 760.0]}}, \"y\": {\"value\": 40.0}, \"y2\": {\"value\": 360.0}}}, {\"mark\": {\"type\": \"rule\", \"opacity\": 0.8, \"stroke\": \"rgb(217, 46, 28)\", \"strokeWidth\": 1.25, \"tooltip\": \"\"}, \"encoding\": {\"x\": {\"type\": \"quantitative\", \"field\": \"max\", \"scale\": {\"domain\": [-2, 2], \"range\": [40.0, 760.0]}}, \"y\": {\"value\": 40.0}, \"y2\": {\"value\": 360.0}}}, {\"layer\": [{\"mark\": {\"type\": \"rect\", \"fill\": \"rgb(217, 46, 28)\", \"opacity\": 0.1, \"tooltip\": \"\"}, \"encoding\": {\"x\": {\"type\": \"quantitative\", \"field\": \"min\", \"scale\": {\"domain\": [-2, 2], \"range\": [40.0, 760.0]}}, \"x2\": {\"field\": \"lower_end\"}, \"y\": {\"value\": 40.0}, \"y2\": {\"value\": 360.0}}}, {\"mark\": {\"type\": \"rect\", \"fill\": \"rgb(217, 46, 28)\", \"opacity\": 0.1, \"tooltip\": \"\"}, \"encoding\": {\"x\": {\"type\": \"quantitative\", \"field\": \"max\", \"scale\": {\"domain\": [-2, 2], \"range\": [40.0, 760.0]}}, \"x2\": {\"field\": \"upper_end\"}, \"y\": {\"value\": 40.0}, \"y2\": {\"value\": 360.0}}}]}, {\"data\": {\"name\": \"data-79dd248bdaa0ea02c535240e8ad022c8\"}, \"mark\": {\"type\": \"text\", \"align\": \"left\", \"baseline\": \"top\", \"fill\": \"rgb(217, 46, 28)\", \"font\": \"Arial\", \"fontSize\": 12, \"fontWeight\": \"normal\", \"tooltip\": \"\"}, \"encoding\": {\"text\": {\"value\": \"The metric value for any group should not be 1.25 (or more) times smaller or larger than that of the reference group M.\"}, \"x\": {\"value\": 0}, \"y\": {\"value\": 373.3333333333333}}}], \"data\": {\"name\": \"data-feb20f5d4dfe62687617135ffee93d46\"}}, {\"layer\": [{\"mark\": \"circle\"}, {\"data\": {\"name\": \"data-df90e99880a4349ebdb205b6f14353f9\"}, \"mark\": {\"type\": \"circle\", \"opacity\": 0.2}, \"encoding\": {\"color\": {\"condition\": {\"type\": \"nominal\", \"field\": \"attribute_value\", \"legend\": null, \"scale\": {\"domain\": [\"M\", \"F\"], \"range\": [\"rgb(117,117,117)\", \"rgb(100, 143, 255)\", \"rgb(254, 97, 0)\", \"rgb(220, 38, 127)\", \"rgb(255, 176, 0)\", \"rgb(120, 94, 240)\"]}, \"selection\": \"selector037\"}, \"value\": \"rgb(224,224,224)\"}, \"size\": {\"type\": \"quantitative\", \"field\": \"group_size\", \"legend\": null, \"scale\": {\"domain\": [0, 2583.6], \"range\": [0, 5026.548245743669]}}, \"tooltip\": [{\"type\": \"nominal\", \"field\": \"attribute_value\", \"title\": \"Group\"}, {\"type\": \"nominal\", \"field\": \"tooltip_group_size\", \"title\": \"Group Size\"}, {\"type\": \"nominal\", \"field\": \"tooltip_disparity_explanation_precision\", \"title\": \"Disparity\"}, {\"type\": \"quantitative\", \"field\": \"precision\", \"format\": \".2f\", \"title\": \"PRECISION\"}], \"x\": {\"type\": \"quantitative\", \"axis\": {\"domain\": false, \"labels\": false, \"ticks\": false, \"title\": null, \"values\": [1, 2, -2, -1]}, \"field\": \"precision_disparity_scaled\", \"scale\": {\"domain\": [-2, 2], \"range\": [40.0, 760.0]}}, \"y\": {\"type\": \"nominal\", \"axis\": {\"domain\": false, \"grid\": false, \"labels\": false, \"ticks\": false, \"title\": \" \"}, \"field\": \"metric_variable\", \"scale\": {\"domain\": [\"PRECISION\", \"FOR\"], \"range\": [40.0, 360.0]}}}, \"selection\": {\"selector039\": {\"type\": \"multi\", \"empty\": \"all\", \"fields\": [\"attribute_value\"]}}, \"transform\": [{\"calculate\": \"'PRECISION'\", \"as\": \"metric_variable\"}]}, {\"data\": {\"name\": \"data-df90e99880a4349ebdb205b6f14353f9\"}, \"mark\": {\"type\": \"circle\", \"opacity\": 0.2}, \"encoding\": {\"color\": {\"condition\": {\"type\": \"nominal\", \"field\": \"attribute_value\", \"legend\": null, \"scale\": {\"domain\": [\"M\", \"F\"], \"range\": [\"rgb(117,117,117)\", \"rgb(100, 143, 255)\", \"rgb(254, 97, 0)\", \"rgb(220, 38, 127)\", \"rgb(255, 176, 0)\", \"rgb(120, 94, 240)\"]}, \"selection\": \"selector037\"}, \"value\": \"rgb(224,224,224)\"}, \"size\": {\"type\": \"quantitative\", \"field\": \"group_size\", \"legend\": null, \"scale\": {\"domain\": [0, 2583.6], \"range\": [0, 5026.548245743669]}}, \"tooltip\": [{\"type\": \"nominal\", \"field\": \"attribute_value\", \"title\": \"Group\"}, {\"type\": \"nominal\", \"field\": \"tooltip_group_size\", \"title\": \"Group Size\"}, {\"type\": \"nominal\", \"field\": \"tooltip_disparity_explanation_for\", \"title\": \"Disparity\"}, {\"type\": \"quantitative\", \"field\": \"for\", \"format\": \".2f\", \"title\": \"FOR\"}], \"x\": {\"type\": \"quantitative\", \"axis\": {\"domain\": false, \"labels\": false, \"ticks\": false, \"title\": null, \"values\": [1, 2, -2, -1]}, \"field\": \"for_disparity_scaled\", \"scale\": {\"domain\": [-2, 2], \"range\": [40.0, 760.0]}}, \"y\": {\"type\": \"nominal\", \"axis\": {\"domain\": false, \"grid\": false, \"labels\": false, \"ticks\": false, \"title\": \" \"}, \"field\": \"metric_variable\", \"scale\": {\"domain\": [\"PRECISION\", \"FOR\"], \"range\": [40.0, 360.0]}}}, \"selection\": {\"selector041\": {\"type\": \"multi\", \"empty\": \"all\", \"fields\": [\"attribute_value\"]}}, \"transform\": [{\"calculate\": \"'FOR'\", \"as\": \"metric_variable\"}]}, {\"layer\": [{\"mark\": \"point\"}, {\"data\": {\"name\": \"data-df90e99880a4349ebdb205b6f14353f9\"}, \"mark\": {\"type\": \"point\", \"filled\": true, \"size\": 60}, \"encoding\": {\"color\": {\"condition\": {\"type\": \"nominal\", \"field\": \"attribute_value\", \"legend\": null, \"scale\": {\"domain\": [\"M\", \"F\"], \"range\": [\"rgb(117,117,117)\", \"rgb(100, 143, 255)\", \"rgb(254, 97, 0)\", \"rgb(220, 38, 127)\", \"rgb(255, 176, 0)\", \"rgb(120, 94, 240)\"]}, \"selection\": \"selector037\"}, \"value\": \"rgb(224,224,224)\"}, \"shape\": {\"type\": \"nominal\", \"field\": \"attribute_value\", \"legend\": null, \"scale\": {\"domain\": [\"M\", \"F\"], \"range\": [\"cross\", \"circle\"]}}, \"tooltip\": [{\"type\": \"nominal\", \"field\": \"attribute_value\", \"title\": \"Group\"}, {\"type\": \"nominal\", \"field\": \"tooltip_group_size\", \"title\": \"Group Size\"}, {\"type\": \"nominal\", \"field\": \"tooltip_disparity_explanation_precision\", \"title\": \"Disparity\"}, {\"type\": \"quantitative\", \"field\": \"precision\", \"format\": \".2f\", \"title\": \"PRECISION\"}], \"x\": {\"type\": \"quantitative\", \"axis\": {\"domain\": false, \"labels\": false, \"ticks\": false, \"title\": null, \"values\": [1, 2, -2, -1]}, \"field\": \"precision_disparity_scaled\", \"scale\": {\"domain\": [-2, 2], \"range\": [40.0, 760.0]}}, \"y\": {\"type\": \"nominal\", \"axis\": {\"domain\": false, \"grid\": false, \"labels\": false, \"ticks\": false, \"title\": \" \"}, \"field\": \"metric_variable\", \"scale\": {\"domain\": [\"PRECISION\", \"FOR\"], \"range\": [40.0, 360.0]}}}, \"selection\": {\"selector038\": {\"type\": \"multi\", \"empty\": \"all\", \"fields\": [\"attribute_value\"]}}, \"transform\": [{\"calculate\": \"'PRECISION'\", \"as\": \"metric_variable\"}]}, {\"data\": {\"name\": \"data-df90e99880a4349ebdb205b6f14353f9\"}, \"mark\": {\"type\": \"point\", \"filled\": true, \"size\": 60}, \"encoding\": {\"color\": {\"condition\": {\"type\": \"nominal\", \"field\": \"attribute_value\", \"legend\": null, \"scale\": {\"domain\": [\"M\", \"F\"], \"range\": [\"rgb(117,117,117)\", \"rgb(100, 143, 255)\", \"rgb(254, 97, 0)\", \"rgb(220, 38, 127)\", \"rgb(255, 176, 0)\", \"rgb(120, 94, 240)\"]}, \"selection\": \"selector037\"}, \"value\": \"rgb(224,224,224)\"}, \"shape\": {\"type\": \"nominal\", \"field\": \"attribute_value\", \"legend\": null, \"scale\": {\"domain\": [\"M\", \"F\"], \"range\": [\"cross\", \"circle\"]}}, \"tooltip\": [{\"type\": \"nominal\", \"field\": \"attribute_value\", \"title\": \"Group\"}, {\"type\": \"nominal\", \"field\": \"tooltip_group_size\", \"title\": \"Group Size\"}, {\"type\": \"nominal\", \"field\": \"tooltip_disparity_explanation_for\", \"title\": \"Disparity\"}, {\"type\": \"quantitative\", \"field\": \"for\", \"format\": \".2f\", \"title\": \"FOR\"}], \"x\": {\"type\": \"quantitative\", \"axis\": {\"domain\": false, \"labels\": false, \"ticks\": false, \"title\": null, \"values\": [1, 2, -2, -1]}, \"field\": \"for_disparity_scaled\", \"scale\": {\"domain\": [-2, 2], \"range\": [40.0, 760.0]}}, \"y\": {\"type\": \"nominal\", \"axis\": {\"domain\": false, \"grid\": false, \"labels\": false, \"ticks\": false, \"title\": \" \"}, \"field\": \"metric_variable\", \"scale\": {\"domain\": [\"PRECISION\", \"FOR\"], \"range\": [40.0, 360.0]}}}, \"selection\": {\"selector040\": {\"type\": \"multi\", \"empty\": \"all\", \"fields\": [\"attribute_value\"]}}, \"transform\": [{\"calculate\": \"'FOR'\", \"as\": \"metric_variable\"}]}]}]}, {\"layer\": [{\"mark\": {\"type\": \"point\", \"filled\": true, \"opacity\": 1, \"size\": 39.47841760435743}, \"encoding\": {\"color\": {\"condition\": {\"type\": \"nominal\", \"field\": \"attribute_value\", \"legend\": null, \"scale\": {\"domain\": [\"M\", \"F\"], \"range\": [\"rgb(117,117,117)\", \"rgb(100, 143, 255)\", \"rgb(254, 97, 0)\", \"rgb(220, 38, 127)\", \"rgb(255, 176, 0)\", \"rgb(120, 94, 240)\"]}, \"selection\": \"selector037\"}, \"value\": \"rgb(224,224,224)\"}, \"shape\": {\"type\": \"nominal\", \"field\": \"attribute_value\", \"legend\": null, \"scale\": {\"domain\": [\"M\", \"F\"], \"range\": [\"cross\", \"circle\"]}}, \"x\": {\"value\": 804}, \"y\": {\"type\": \"nominal\", \"axis\": {\"domain\": false, \"grid\": false, \"labels\": false, \"ticks\": false, \"title\": \" \"}, \"field\": \"attribute_value\", \"scale\": {\"domain\": [\"M\", \"F\"], \"range\": [71, 125]}}}, \"selection\": {\"selector037\": {\"type\": \"multi\", \"empty\": \"all\", \"fields\": [\"attribute_value\"]}}}, {\"mark\": {\"type\": \"text\", \"align\": \"left\", \"baseline\": \"middle\", \"font\": \"Arial\", \"fontSize\": 12, \"fontWeight\": \"normal\"}, \"encoding\": {\"color\": {\"condition\": {\"type\": \"nominal\", \"field\": \"attribute_value\", \"legend\": null, \"scale\": {\"domain\": [\"M\", \"F\"], \"range\": [\"rgb(117,117,117)\", \"rgb(100, 143, 255)\", \"rgb(254, 97, 0)\", \"rgb(220, 38, 127)\", \"rgb(255, 176, 0)\", \"rgb(120, 94, 240)\"]}, \"selection\": \"selector037\"}, \"value\": \"rgb(224,224,224)\"}, \"text\": {\"type\": \"nominal\", \"field\": \"label\"}, \"x\": {\"value\": 812}, \"y\": {\"type\": \"nominal\", \"axis\": {\"domain\": false, \"grid\": false, \"labels\": false, \"ticks\": false, \"title\": \" \"}, \"field\": \"attribute_value\", \"scale\": {\"domain\": [\"M\", \"F\"], \"range\": [71, 125]}}}, \"selection\": {\"selector042\": {\"type\": \"multi\", \"empty\": \"all\", \"fields\": [\"attribute_value\"]}}}, {\"data\": {\"name\": \"data-79dd248bdaa0ea02c535240e8ad022c8\"}, \"mark\": {\"type\": \"text\", \"align\": \"left\", \"baseline\": \"middle\", \"color\": \"rgb(117,117,117)\", \"font\": \"Arial\", \"fontSize\": 12, \"fontWeight\": \"normal\"}, \"encoding\": {\"text\": {\"value\": \"Click to highlight a group.\"}, \"x\": {\"value\": 800}, \"y\": {\"value\": 49}}}, {\"data\": {\"name\": \"data-79dd248bdaa0ea02c535240e8ad022c8\"}, \"mark\": {\"type\": \"text\", \"align\": \"left\", \"baseline\": \"middle\", \"color\": \"rgb(117,117,117)\", \"font\": \"Arial\", \"fontSize\": 14, \"fontWeight\": \"normal\"}, \"encoding\": {\"text\": {\"value\": \"Groups\"}, \"x\": {\"value\": 800}, \"y\": {\"value\": 30}}}], \"data\": {\"name\": \"data-386fa49e1347d30df9a29e6471bc3578\"}}], \"height\": 400, \"padding\": {\"top\": 15, \"bottom\": 10}, \"resolve\": {\"scale\": {\"size\": \"independent\", \"y\": \"independent\"}}, \"title\": \"Disparities on Patient Gender\", \"width\": 800, \"$schema\": \"https://vega.github.io/schema/vega-lite/v4.8.1.json\", \"datasets\": {\"data-350ed79bf9771e86190a53803c45c7fa\": [{\"metric\": \"PRECISION\", \"x\": -2, \"x2\": 2}, {\"metric\": \"FOR\", \"x\": -2, \"x2\": 2}], \"data-79dd248bdaa0ea02c535240e8ad022c8\": [{\"a\": 1, \"b\": 0}, {\"a\": 1, \"b\": 0}], \"data-c233327f4cd9b4c2df31bf8015c83e4a\": [{\"value\": 1, \"label\": 2}, {\"value\": 2, \"label\": 3}, {\"value\": -2, \"label\": 3}, {\"value\": -1, \"label\": 2}, {\"value\": 0, \"label\": \"=\"}], \"data-feb20f5d4dfe62687617135ffee93d46\": [{\"min\": -0.25, \"max\": 0.25, \"lower_end\": -2, \"upper_end\": 2}], \"data-df90e99880a4349ebdb205b6f14353f9\": [{\"attribute_name\": \"Patient Gender\", \"attribute_value\": \"F\", \"group_size\": 1847, \"total_entities\": 4000, \"precision\": 0.6734513274336283, \"for\": 0.39748953974895396, \"precision_disparity\": 0.9944094002375845, \"for_disparity\": 1.0648077451669058, \"precision_disparity_scaled\": -0.0056220302835832126, \"for_disparity_scaled\": 0.0648077451669058, \"tooltip_group_size\": \"1,847 (46.17%)\", \"tooltip_disparity_explanation_precision\": \"1.01 times smaller PRECISION than the reference group\", \"tooltip_disparity_explanation_for\": \"1.06 times larger FOR than the reference group\"}, {\"attribute_name\": \"Patient Gender\", \"attribute_value\": \"M\", \"group_size\": 2153, \"total_entities\": 4000, \"precision\": 0.6772374911909795, \"for\": 0.37329700272479566, \"precision_disparity\": 1.0, \"for_disparity\": 1.0, \"precision_disparity_scaled\": 0.0, \"for_disparity_scaled\": 0.0, \"tooltip_group_size\": \"2,153 (53.83%)\", \"tooltip_disparity_explanation_precision\": \"Reference group\", \"tooltip_disparity_explanation_for\": \"Reference group\"}], \"data-386fa49e1347d30df9a29e6471bc3578\": [{\"attribute_value\": \"M\", \"label\": \"M [REF]\"}, {\"attribute_value\": \"F\", \"label\": \"F\"}]}}, {\"mode\": \"vega-lite\"});\n",
              "</script>"
            ],
            "text/plain": [
              "alt.LayerChart(...)"
            ]
          },
          "metadata": {},
          "execution_count": 106
        }
      ]
    },
    {
      "cell_type": "markdown",
      "source": [
        "**For Age Groups**"
      ],
      "metadata": {
        "id": "hLYDyg_BFU0P"
      }
    },
    {
      "cell_type": "code",
      "source": [
        "# Chosen age group as baseline because it has the highest accuracy\n",
        "attributes_and_reference_groups={'Age Group':'Age 18-30'}\n",
        "attributes_to_audit = list(attributes_and_reference_groups.keys())"
      ],
      "metadata": {
        "id": "LoyEPtm4FWrE"
      },
      "execution_count": 107,
      "outputs": []
    },
    {
      "cell_type": "code",
      "source": [
        "metrics = ['precision','for']\n",
        "disparity_tolerance = 1.25"
      ],
      "metadata": {
        "id": "dZI2gf9KFjvQ"
      },
      "execution_count": 108,
      "outputs": []
    },
    {
      "cell_type": "code",
      "source": [
        "aqdf['Age Group'] = aqdf['Age Group'].astype(str)"
      ],
      "metadata": {
        "id": "jqvhkjUOHDtN"
      },
      "execution_count": 109,
      "outputs": []
    },
    {
      "cell_type": "code",
      "source": [
        "# Initialize Aequitas\n",
        "g = Group()\n",
        "b = Bias()\n",
        "\n",
        "# get_crosstabs returns a dataframe of the group counts and group value bias metrics.\n",
        "xtab, _ = g.get_crosstabs(aqdf, attr_cols=attributes_to_audit)\n",
        "bdf = b.get_disparity_predefined_groups(xtab, original_df=aqdf, ref_groups_dict=attributes_and_reference_groups)"
      ],
      "metadata": {
        "colab": {
          "base_uri": "https://localhost:8080/"
        },
        "id": "mu9u8WfEFl7V",
        "outputId": "a6e45de2-b91d-416f-82bc-450d274bbe63"
      },
      "execution_count": 110,
      "outputs": [
        {
          "output_type": "stream",
          "name": "stdout",
          "text": [
            "get_disparity_predefined_group()\n"
          ]
        }
      ]
    },
    {
      "cell_type": "code",
      "source": [
        "# baseline value always passes\n",
        "ap.summary(bdf, metrics, fairness_threshold = disparity_tolerance)"
      ],
      "metadata": {
        "colab": {
          "base_uri": "https://localhost:8080/",
          "height": 379
        },
        "id": "P4O27SfvHMOU",
        "outputId": "972a17e8-0376-4419-ee13-250909748ba0"
      },
      "execution_count": 111,
      "outputs": [
        {
          "output_type": "stream",
          "name": "stderr",
          "text": [
            "/usr/local/lib/python3.10/dist-packages/altair/utils/core.py:283: FutureWarning: iteritems is deprecated and will be removed in a future version. Use .items instead.\n",
            "  for col_name, dtype in df.dtypes.iteritems():\n"
          ]
        },
        {
          "output_type": "execute_result",
          "data": {
            "text/html": [
              "\n",
              "<div id=\"altair-viz-3b5a948c3b0d4addb7ad694e93bafbce\"></div>\n",
              "<script type=\"text/javascript\">\n",
              "  (function(spec, embedOpt){\n",
              "    let outputDiv = document.currentScript.previousElementSibling;\n",
              "    if (outputDiv.id !== \"altair-viz-3b5a948c3b0d4addb7ad694e93bafbce\") {\n",
              "      outputDiv = document.getElementById(\"altair-viz-3b5a948c3b0d4addb7ad694e93bafbce\");\n",
              "    }\n",
              "    const paths = {\n",
              "      \"vega\": \"https://cdn.jsdelivr.net/npm//vega@5?noext\",\n",
              "      \"vega-lib\": \"https://cdn.jsdelivr.net/npm//vega-lib?noext\",\n",
              "      \"vega-lite\": \"https://cdn.jsdelivr.net/npm//vega-lite@4.8.1?noext\",\n",
              "      \"vega-embed\": \"https://cdn.jsdelivr.net/npm//vega-embed@6?noext\",\n",
              "    };\n",
              "\n",
              "    function loadScript(lib) {\n",
              "      return new Promise(function(resolve, reject) {\n",
              "        var s = document.createElement('script');\n",
              "        s.src = paths[lib];\n",
              "        s.async = true;\n",
              "        s.onload = () => resolve(paths[lib]);\n",
              "        s.onerror = () => reject(`Error loading script: ${paths[lib]}`);\n",
              "        document.getElementsByTagName(\"head\")[0].appendChild(s);\n",
              "      });\n",
              "    }\n",
              "\n",
              "    function showError(err) {\n",
              "      outputDiv.innerHTML = `<div class=\"error\" style=\"color:red;\">${err}</div>`;\n",
              "      throw err;\n",
              "    }\n",
              "\n",
              "    function displayChart(vegaEmbed) {\n",
              "      vegaEmbed(outputDiv, spec, embedOpt)\n",
              "        .catch(err => showError(`Javascript Error: ${err.message}<br>This usually means there's a typo in your chart specification. See the javascript console for the full traceback.`));\n",
              "    }\n",
              "\n",
              "    if(typeof define === \"function\" && define.amd) {\n",
              "      requirejs.config({paths});\n",
              "      require([\"vega-embed\"], displayChart, err => showError(`Error loading script: ${err.message}`));\n",
              "    } else if (typeof vegaEmbed === \"function\") {\n",
              "      displayChart(vegaEmbed);\n",
              "    } else {\n",
              "      loadScript(\"vega\")\n",
              "        .then(() => loadScript(\"vega-lite\"))\n",
              "        .then(() => loadScript(\"vega-embed\"))\n",
              "        .catch(showError)\n",
              "        .then(() => displayChart(vegaEmbed));\n",
              "    }\n",
              "  })({\"config\": {\"view\": {\"continuousWidth\": 400, \"continuousHeight\": 300, \"strokeWidth\": 0}, \"legend\": {\"labelColor\": \"rgb(117,117,117)\", \"labelFont\": \"Arial\", \"labelFontSize\": 12, \"titleColor\": \"rgb(117,117,117)\", \"titleFont\": \"Arial\", \"titleFontSize\": 14, \"titleFontWeight\": \"normal\", \"titlePadding\": 15}}, \"vconcat\": [{\"hconcat\": [{\"vconcat\": [{\"mark\": {\"type\": \"text\", \"align\": \"center\", \"baseline\": \"middle\", \"color\": \"rgb(117,117,117)\", \"font\": \"Arial\", \"fontWeight\": \"bold\", \"size\": 14}, \"encoding\": {\"text\": {\"value\": \"\"}}, \"height\": 32.25, \"width\": 32.0}, {\"layer\": [{\"mark\": {\"type\": \"text\", \"align\": \"center\", \"baseline\": \"middle\", \"color\": \"rgb(117,117,117)\", \"font\": \"Arial\", \"fontWeight\": \"bold\", \"size\": 14}, \"encoding\": {\"text\": {\"value\": \"PRECISION\"}, \"y\": {\"type\": \"quantitative\", \"axis\": {\"domain\": false, \"grid\": false, \"labels\": false, \"ticks\": false, \"title\": \" \"}, \"field\": \"y_position\", \"scale\": {\"domain\": [3, 1]}}}, \"transform\": [{\"calculate\": \"1.2\", \"as\": \"y_position\"}]}, {\"mark\": {\"type\": \"text\", \"align\": \"center\", \"baseline\": \"middle\", \"color\": \"rgb(117,117,117)\", \"font\": \"Arial\", \"size\": 12}, \"encoding\": {\"text\": {\"value\": \"Groups\"}, \"y\": {\"type\": \"quantitative\", \"axis\": {\"domain\": false, \"grid\": false, \"labels\": false, \"ticks\": false, \"title\": \" \"}, \"field\": \"y_position\", \"scale\": {\"domain\": [3, 1]}}}, \"transform\": [{\"calculate\": \"2\", \"as\": \"y_position\"}]}, {\"mark\": {\"type\": \"text\", \"align\": \"center\", \"baseline\": \"middle\", \"color\": \"rgb(117,117,117)\", \"font\": \"Arial\", \"size\": 12}, \"encoding\": {\"text\": {\"value\": \"% Pop.\"}, \"y\": {\"type\": \"quantitative\", \"axis\": {\"domain\": false, \"grid\": false, \"labels\": false, \"ticks\": false, \"title\": \" \"}, \"field\": \"y_position\", \"scale\": {\"domain\": [3, 1]}}}, \"transform\": [{\"calculate\": \"2.7\", \"as\": \"y_position\"}]}], \"height\": 69.875, \"width\": 32.0}, {\"layer\": [{\"mark\": {\"type\": \"text\", \"align\": \"center\", \"baseline\": \"middle\", \"color\": \"rgb(117,117,117)\", \"font\": \"Arial\", \"fontWeight\": \"bold\", \"size\": 14}, \"encoding\": {\"text\": {\"value\": \"FOR\"}, \"y\": {\"type\": \"quantitative\", \"axis\": {\"domain\": false, \"grid\": false, \"labels\": false, \"ticks\": false, \"title\": \" \"}, \"field\": \"y_position\", \"scale\": {\"domain\": [3, 1]}}}, \"transform\": [{\"calculate\": \"1.2\", \"as\": \"y_position\"}]}, {\"mark\": {\"type\": \"text\", \"align\": \"center\", \"baseline\": \"middle\", \"color\": \"rgb(117,117,117)\", \"font\": \"Arial\", \"size\": 12}, \"encoding\": {\"text\": {\"value\": \"Groups\"}, \"y\": {\"type\": \"quantitative\", \"axis\": {\"domain\": false, \"grid\": false, \"labels\": false, \"ticks\": false, \"title\": \" \"}, \"field\": \"y_position\", \"scale\": {\"domain\": [3, 1]}}}, \"transform\": [{\"calculate\": \"2\", \"as\": \"y_position\"}]}, {\"mark\": {\"type\": \"text\", \"align\": \"center\", \"baseline\": \"middle\", \"color\": \"rgb(117,117,117)\", \"font\": \"Arial\", \"size\": 12}, \"encoding\": {\"text\": {\"value\": \"% Pop.\"}, \"y\": {\"type\": \"quantitative\", \"axis\": {\"domain\": false, \"grid\": false, \"labels\": false, \"ticks\": false, \"title\": \" \"}, \"field\": \"y_position\", \"scale\": {\"domain\": [3, 1]}}}, \"transform\": [{\"calculate\": \"2.7\", \"as\": \"y_position\"}]}], \"height\": 69.875, \"width\": 32.0}], \"bounds\": \"flush\", \"data\": {\"name\": \"data-79dd248bdaa0ea02c535240e8ad022c8\"}, \"spacing\": 21.5}, {\"hconcat\": [{\"vconcat\": [{\"data\": {\"name\": \"data-79dd248bdaa0ea02c535240e8ad022c8\"}, \"mark\": {\"type\": \"text\", \"align\": \"center\", \"baseline\": \"middle\", \"color\": \"rgb(117,117,117)\", \"font\": \"Arial\", \"fontWeight\": \"bold\", \"size\": 14}, \"encoding\": {\"text\": {\"value\": \"Age Group\"}}, \"height\": 32.25, \"width\": 240.0}, {\"layer\": [{\"data\": {\"name\": \"data-126d4ae515fac080ab56453e43289c66\"}, \"mark\": {\"type\": \"text\", \"align\": \"center\", \"baseline\": \"middle\", \"font\": \"Arial\", \"fontWeight\": \"bold\", \"size\": 20}, \"encoding\": {\"color\": {\"type\": \"ordinal\", \"field\": \"parity_result\", \"legend\": {\"title\": \"\"}, \"scale\": {\"domain\": [\"Reference\", \"Pass\", \"Fail\"], \"range\": [\"rgb(117,117,117)\", \"rgb(20, 152, 181)\", \"rgb(217, 46, 28)\"]}}, \"text\": {\"value\": \"PASS\"}, \"y\": {\"type\": \"quantitative\", \"axis\": {\"domain\": false, \"grid\": false, \"labels\": false, \"ticks\": false, \"title\": \" \"}, \"field\": \"y_position\", \"scale\": {\"domain\": [3, 1]}}}, \"transform\": [{\"calculate\": \"1\", \"as\": \"y_position\"}]}, {\"data\": {\"name\": \"data-686bbbad91876948033aa8938c4cdc55\"}, \"mark\": {\"type\": \"bar\", \"size\": 6, \"stroke\": \"white\"}, \"encoding\": {\"color\": {\"type\": \"ordinal\", \"field\": \"precision_parity_result\", \"legend\": {\"padding\": 20, \"title\": \"Parity Test\"}, \"scale\": {\"domain\": [\"Reference\", \"Pass\", \"Fail\"], \"range\": [\"rgb(117,117,117)\", \"rgb(20, 152, 181)\", \"rgb(217, 46, 28)\"]}}, \"tooltip\": [{\"type\": \"nominal\", \"field\": \"precision_parity_result\", \"title\": \"Parity\"}, {\"type\": \"nominal\", \"field\": \"tooltip_group_size\", \"title\": \"Size\"}, {\"type\": \"nominal\", \"field\": \"tooltip_groups_name_size\", \"title\": \"Groups\"}], \"x\": {\"type\": \"quantitative\", \"aggregate\": \"sum\", \"axis\": {\"domain\": false, \"grid\": false, \"labels\": false, \"ticks\": false, \"title\": \" \"}, \"field\": \"group_size\", \"stack\": \"normalize\"}, \"y\": {\"type\": \"quantitative\", \"axis\": {\"domain\": false, \"grid\": false, \"labels\": false, \"ticks\": false, \"title\": \" \"}, \"field\": \"y_position\", \"scale\": {\"domain\": [3, 1]}}}, \"transform\": [{\"calculate\": \"2.8\", \"as\": \"y_position\"}]}, {\"data\": {\"name\": \"data-dca1ee1406bc67339186e4a96b691c83\"}, \"mark\": {\"type\": \"circle\", \"opacity\": 1}, \"encoding\": {\"color\": {\"type\": \"ordinal\", \"field\": \"precision_parity_result\", \"legend\": {\"title\": \"\"}, \"scale\": {\"domain\": [\"Reference\", \"Pass\", \"Fail\"], \"range\": [\"rgb(117,117,117)\", \"rgb(20, 152, 181)\", \"rgb(217, 46, 28)\"]}}, \"size\": {\"value\": 250}, \"tooltip\": [{\"type\": \"nominal\", \"field\": \"attribute_value\", \"title\": \"Group\"}, {\"type\": \"nominal\", \"field\": \"tooltip_group_size\", \"title\": \"Group Size\"}, {\"type\": \"nominal\", \"field\": \"tooltip_parity_test_explanation_precision\", \"title\": \"Parity Test\"}, {\"type\": \"nominal\", \"field\": \"tooltip_disparity_explanation_precision\", \"title\": \"Disparity\"}, {\"type\": \"quantitative\", \"field\": \"precision\", \"format\": \".2f\", \"title\": \"PRECISION\"}], \"x\": {\"type\": \"quantitative\", \"axis\": {\"domain\": false, \"grid\": false, \"labels\": false, \"ticks\": false, \"title\": \" \"}, \"field\": \"precision_disparity_rank\", \"scale\": {\"domain\": [-4, 4], \"nice\": false}}, \"y\": {\"type\": \"quantitative\", \"axis\": {\"domain\": false, \"grid\": false, \"labels\": false, \"ticks\": false, \"title\": \" \"}, \"field\": \"y_position\", \"scale\": {\"domain\": [3, 1]}}}, \"transform\": [{\"calculate\": \"2\", \"as\": \"y_position\"}]}], \"height\": 69.875, \"resolve\": {\"scale\": {\"x\": \"independent\"}}, \"width\": 240.0}, {\"layer\": [{\"data\": {\"name\": \"data-126d4ae515fac080ab56453e43289c66\"}, \"mark\": {\"type\": \"text\", \"align\": \"center\", \"baseline\": \"middle\", \"font\": \"Arial\", \"fontWeight\": \"bold\", \"size\": 20}, \"encoding\": {\"color\": {\"type\": \"ordinal\", \"field\": \"parity_result\", \"legend\": {\"title\": \"\"}, \"scale\": {\"domain\": [\"Reference\", \"Pass\", \"Fail\"], \"range\": [\"rgb(117,117,117)\", \"rgb(20, 152, 181)\", \"rgb(217, 46, 28)\"]}}, \"text\": {\"value\": \"PASS\"}, \"y\": {\"type\": \"quantitative\", \"axis\": {\"domain\": false, \"grid\": false, \"labels\": false, \"ticks\": false, \"title\": \" \"}, \"field\": \"y_position\", \"scale\": {\"domain\": [3, 1]}}}, \"transform\": [{\"calculate\": \"1\", \"as\": \"y_position\"}]}, {\"data\": {\"name\": \"data-6564f55cf2bfc046d95348a2ba91fa16\"}, \"mark\": {\"type\": \"bar\", \"size\": 6, \"stroke\": \"white\"}, \"encoding\": {\"color\": {\"type\": \"ordinal\", \"field\": \"for_parity_result\", \"legend\": {\"padding\": 20, \"title\": \"Parity Test\"}, \"scale\": {\"domain\": [\"Reference\", \"Pass\", \"Fail\"], \"range\": [\"rgb(117,117,117)\", \"rgb(20, 152, 181)\", \"rgb(217, 46, 28)\"]}}, \"tooltip\": [{\"type\": \"nominal\", \"field\": \"for_parity_result\", \"title\": \"Parity\"}, {\"type\": \"nominal\", \"field\": \"tooltip_group_size\", \"title\": \"Size\"}, {\"type\": \"nominal\", \"field\": \"tooltip_groups_name_size\", \"title\": \"Groups\"}], \"x\": {\"type\": \"quantitative\", \"aggregate\": \"sum\", \"axis\": {\"domain\": false, \"grid\": false, \"labels\": false, \"ticks\": false, \"title\": \" \"}, \"field\": \"group_size\", \"stack\": \"normalize\"}, \"y\": {\"type\": \"quantitative\", \"axis\": {\"domain\": false, \"grid\": false, \"labels\": false, \"ticks\": false, \"title\": \" \"}, \"field\": \"y_position\", \"scale\": {\"domain\": [3, 1]}}}, \"transform\": [{\"calculate\": \"2.8\", \"as\": \"y_position\"}]}, {\"data\": {\"name\": \"data-dca1ee1406bc67339186e4a96b691c83\"}, \"mark\": {\"type\": \"circle\", \"opacity\": 1}, \"encoding\": {\"color\": {\"type\": \"ordinal\", \"field\": \"for_parity_result\", \"legend\": {\"title\": \"\"}, \"scale\": {\"domain\": [\"Reference\", \"Pass\", \"Fail\"], \"range\": [\"rgb(117,117,117)\", \"rgb(20, 152, 181)\", \"rgb(217, 46, 28)\"]}}, \"size\": {\"value\": 250}, \"tooltip\": [{\"type\": \"nominal\", \"field\": \"attribute_value\", \"title\": \"Group\"}, {\"type\": \"nominal\", \"field\": \"tooltip_group_size\", \"title\": \"Group Size\"}, {\"type\": \"nominal\", \"field\": \"tooltip_parity_test_explanation_for\", \"title\": \"Parity Test\"}, {\"type\": \"nominal\", \"field\": \"tooltip_disparity_explanation_for\", \"title\": \"Disparity\"}, {\"type\": \"quantitative\", \"field\": \"for\", \"format\": \".2f\", \"title\": \"FOR\"}], \"x\": {\"type\": \"quantitative\", \"axis\": {\"domain\": false, \"grid\": false, \"labels\": false, \"ticks\": false, \"title\": \" \"}, \"field\": \"for_disparity_rank\", \"scale\": {\"domain\": [-4, 4], \"nice\": false}}, \"y\": {\"type\": \"quantitative\", \"axis\": {\"domain\": false, \"grid\": false, \"labels\": false, \"ticks\": false, \"title\": \" \"}, \"field\": \"y_position\", \"scale\": {\"domain\": [3, 1]}}}, \"transform\": [{\"calculate\": \"2\", \"as\": \"y_position\"}]}], \"height\": 69.875, \"resolve\": {\"scale\": {\"x\": \"independent\"}}, \"width\": 240.0}], \"bounds\": \"flush\", \"spacing\": 21.5}], \"bounds\": \"flush\", \"spacing\": 288.0}], \"bounds\": \"flush\", \"spacing\": 80.0}, {\"layer\": [{\"mark\": {\"type\": \"text\", \"align\": \"left\", \"baseline\": \"top\", \"fill\": \"rgb(117,117,117)\", \"font\": \"Arial\", \"fontSize\": 12, \"fontWeight\": \"normal\"}, \"encoding\": {\"text\": {\"value\": \"For a group to pass the parity test its disparity to the reference group cannot exceed the fairness threshold (1.25).\"}, \"x\": {\"value\": 24.0}, \"y\": {\"value\": 0}}}, {\"mark\": {\"type\": \"text\", \"align\": \"left\", \"baseline\": \"top\", \"fill\": \"rgb(117,117,117)\", \"font\": \"Arial\", \"fontSize\": 12, \"fontWeight\": \"normal\"}, \"encoding\": {\"text\": {\"value\": \"An attribute passes the parity test for a given metric if all its groups pass the test.\"}, \"x\": {\"value\": 24.0}, \"y\": {\"value\": 15.0}}}], \"data\": {\"name\": \"data-79dd248bdaa0ea02c535240e8ad022c8\"}}], \"padding\": {\"top\": 15, \"bottom\": 10}, \"$schema\": \"https://vega.github.io/schema/vega-lite/v4.8.1.json\", \"datasets\": {\"data-79dd248bdaa0ea02c535240e8ad022c8\": [{\"a\": 1, \"b\": 0}, {\"a\": 1, \"b\": 0}], \"data-126d4ae515fac080ab56453e43289c66\": [{\"parity_result\": \"Pass\"}], \"data-686bbbad91876948033aa8938c4cdc55\": [{\"precision_parity_result\": \"Pass\", \"attribute_name\": \"Age Group\", \"total_entities\": 4000, \"group_size\": 3431, \"tooltip_groups_name_size\": \"Age 0-18 (201), Age 30-50 (1,495), Age 50-100 (1,735)\", \"tooltip_group_size\": \"3,431 (85.78%)\"}, {\"precision_parity_result\": \"Reference\", \"attribute_name\": \"Age Group\", \"total_entities\": 4000, \"group_size\": 569, \"tooltip_groups_name_size\": \"Age 18-30 (569)\", \"tooltip_group_size\": \"569 (14.22%)\"}], \"data-dca1ee1406bc67339186e4a96b691c83\": [{\"attribute_name\": \"Age Group\", \"attribute_value\": \"Age 0-18\", \"group_size\": 201, \"total_entities\": 4000, \"ref_group_value\": \"Age 18-30\", \"precision\": 0.6187050359712231, \"for\": 0.3870967741935484, \"precision_disparity\": 0.8416055034760072, \"for_disparity\": 1.0138248847926266, \"precision_disparity_scaled\": -0.18820515772507473, \"precision_parity_result\": \"Pass\", \"tooltip_parity_test_explanation_precision\": \"Pass. Below fairness threshold of 1.25\", \"tooltip_disparity_explanation_precision\": \"1.19 times smaller PRECISION than the reference group\", \"tooltip_group_size\": \"201 (5.03%)\", \"precision_disparity_rank\": -3.0, \"group_size_formatted\": \"201\", \"tooltip_groups_name_size\": \"Age 0-18 (201)\", \"for_disparity_scaled\": 0.013824884792626557, \"for_parity_result\": \"Pass\", \"tooltip_parity_test_explanation_for\": \"Pass. Below fairness threshold of 1.25\", \"tooltip_disparity_explanation_for\": \"1.01 times larger FOR than the reference group\", \"for_disparity_rank\": 3.0}, {\"attribute_name\": \"Age Group\", \"attribute_value\": \"Age 18-30\", \"group_size\": 569, \"total_entities\": 4000, \"ref_group_value\": \"Age 18-30\", \"precision\": 0.7351485148514851, \"for\": 0.38181818181818183, \"precision_disparity\": 1.0, \"for_disparity\": 1.0, \"precision_disparity_scaled\": 0.0, \"precision_parity_result\": \"Reference\", \"tooltip_parity_test_explanation_precision\": \"Reference group\", \"tooltip_disparity_explanation_precision\": \"Reference group\", \"tooltip_group_size\": \"569 (14.22%)\", \"precision_disparity_rank\": 0.0, \"group_size_formatted\": \"569\", \"tooltip_groups_name_size\": \"Age 18-30 (569)\", \"for_disparity_scaled\": 0.0, \"for_parity_result\": \"Reference\", \"tooltip_parity_test_explanation_for\": \"Reference group\", \"tooltip_disparity_explanation_for\": \"Reference group\", \"for_disparity_rank\": 0.0}, {\"attribute_name\": \"Age Group\", \"attribute_value\": \"Age 30-50\", \"group_size\": 1495, \"total_entities\": 4000, \"ref_group_value\": \"Age 18-30\", \"precision\": 0.6993006993006993, \"for\": 0.38461538461538464, \"precision_disparity\": 0.9512373148736785, \"for_disparity\": 1.0073260073260073, \"precision_disparity_scaled\": -0.05126237623762386, \"precision_parity_result\": \"Pass\", \"tooltip_parity_test_explanation_precision\": \"Pass. Below fairness threshold of 1.25\", \"tooltip_disparity_explanation_precision\": \"1.05 times smaller PRECISION than the reference group\", \"tooltip_group_size\": \"1,495 (37.38%)\", \"precision_disparity_rank\": -1.0, \"group_size_formatted\": \"1,495\", \"tooltip_groups_name_size\": \"Age 30-50 (1,495)\", \"for_disparity_scaled\": 0.0073260073260073, \"for_parity_result\": \"Pass\", \"tooltip_parity_test_explanation_for\": \"Pass. Below fairness threshold of 1.25\", \"tooltip_disparity_explanation_for\": \"1.01 times larger FOR than the reference group\", \"for_disparity_rank\": 1.0}, {\"attribute_name\": \"Age Group\", \"attribute_value\": \"Age 50-100\", \"group_size\": 1735, \"total_entities\": 4000, \"ref_group_value\": \"Age 18-30\", \"precision\": 0.6358208955223881, \"for\": 0.3863013698630137, \"precision_disparity\": 0.8648876827981306, \"for_disparity\": 1.0117416829745598, \"precision_disparity_scaled\": -0.1562194951889555, \"precision_parity_result\": \"Pass\", \"tooltip_parity_test_explanation_precision\": \"Pass. Below fairness threshold of 1.25\", \"tooltip_disparity_explanation_precision\": \"1.16 times smaller PRECISION than the reference group\", \"tooltip_group_size\": \"1,735 (43.38%)\", \"precision_disparity_rank\": -2.0, \"group_size_formatted\": \"1,735\", \"tooltip_groups_name_size\": \"Age 50-100 (1,735)\", \"for_disparity_scaled\": 0.011741682974559797, \"for_parity_result\": \"Pass\", \"tooltip_parity_test_explanation_for\": \"Pass. Below fairness threshold of 1.25\", \"tooltip_disparity_explanation_for\": \"1.01 times larger FOR than the reference group\", \"for_disparity_rank\": 2.0}], \"data-6564f55cf2bfc046d95348a2ba91fa16\": [{\"for_parity_result\": \"Pass\", \"attribute_name\": \"Age Group\", \"total_entities\": 4000, \"group_size\": 3431, \"tooltip_groups_name_size\": \"Age 0-18 (201), Age 30-50 (1,495), Age 50-100 (1,735)\", \"tooltip_group_size\": \"3,431 (85.78%)\"}, {\"for_parity_result\": \"Reference\", \"attribute_name\": \"Age Group\", \"total_entities\": 4000, \"group_size\": 569, \"tooltip_groups_name_size\": \"Age 18-30 (569)\", \"tooltip_group_size\": \"569 (14.22%)\"}]}}, {\"mode\": \"vega-lite\"});\n",
              "</script>"
            ],
            "text/plain": [
              "alt.VConcatChart(...)"
            ]
          },
          "metadata": {},
          "execution_count": 111
        }
      ]
    },
    {
      "cell_type": "code",
      "source": [
        "ap.disparity(bdf, metrics, 'Age Group', fairness_threshold = disparity_tolerance)"
      ],
      "metadata": {
        "colab": {
          "base_uri": "https://localhost:8080/",
          "height": 525
        },
        "id": "6VZUxIC5HSfE",
        "outputId": "bb62e5f4-77f5-40e7-f62a-17624736b2ad"
      },
      "execution_count": 112,
      "outputs": [
        {
          "output_type": "stream",
          "name": "stderr",
          "text": [
            "/usr/local/lib/python3.10/dist-packages/altair/utils/core.py:283: FutureWarning: iteritems is deprecated and will be removed in a future version. Use .items instead.\n",
            "  for col_name, dtype in df.dtypes.iteritems():\n"
          ]
        },
        {
          "output_type": "execute_result",
          "data": {
            "text/html": [
              "\n",
              "<div id=\"altair-viz-099c5c33d9044b03933056dc90f2c79c\"></div>\n",
              "<script type=\"text/javascript\">\n",
              "  (function(spec, embedOpt){\n",
              "    let outputDiv = document.currentScript.previousElementSibling;\n",
              "    if (outputDiv.id !== \"altair-viz-099c5c33d9044b03933056dc90f2c79c\") {\n",
              "      outputDiv = document.getElementById(\"altair-viz-099c5c33d9044b03933056dc90f2c79c\");\n",
              "    }\n",
              "    const paths = {\n",
              "      \"vega\": \"https://cdn.jsdelivr.net/npm//vega@5?noext\",\n",
              "      \"vega-lib\": \"https://cdn.jsdelivr.net/npm//vega-lib?noext\",\n",
              "      \"vega-lite\": \"https://cdn.jsdelivr.net/npm//vega-lite@4.8.1?noext\",\n",
              "      \"vega-embed\": \"https://cdn.jsdelivr.net/npm//vega-embed@6?noext\",\n",
              "    };\n",
              "\n",
              "    function loadScript(lib) {\n",
              "      return new Promise(function(resolve, reject) {\n",
              "        var s = document.createElement('script');\n",
              "        s.src = paths[lib];\n",
              "        s.async = true;\n",
              "        s.onload = () => resolve(paths[lib]);\n",
              "        s.onerror = () => reject(`Error loading script: ${paths[lib]}`);\n",
              "        document.getElementsByTagName(\"head\")[0].appendChild(s);\n",
              "      });\n",
              "    }\n",
              "\n",
              "    function showError(err) {\n",
              "      outputDiv.innerHTML = `<div class=\"error\" style=\"color:red;\">${err}</div>`;\n",
              "      throw err;\n",
              "    }\n",
              "\n",
              "    function displayChart(vegaEmbed) {\n",
              "      vegaEmbed(outputDiv, spec, embedOpt)\n",
              "        .catch(err => showError(`Javascript Error: ${err.message}<br>This usually means there's a typo in your chart specification. See the javascript console for the full traceback.`));\n",
              "    }\n",
              "\n",
              "    if(typeof define === \"function\" && define.amd) {\n",
              "      requirejs.config({paths});\n",
              "      require([\"vega-embed\"], displayChart, err => showError(`Error loading script: ${err.message}`));\n",
              "    } else if (typeof vegaEmbed === \"function\") {\n",
              "      displayChart(vegaEmbed);\n",
              "    } else {\n",
              "      loadScript(\"vega\")\n",
              "        .then(() => loadScript(\"vega-lite\"))\n",
              "        .then(() => loadScript(\"vega-embed\"))\n",
              "        .catch(showError)\n",
              "        .then(() => displayChart(vegaEmbed));\n",
              "    }\n",
              "  })({\"config\": {\"view\": {\"continuousWidth\": 400, \"continuousHeight\": 300, \"strokeWidth\": 0}, \"axisLeft\": {\"labelColor\": \"rgb(117,117,117)\", \"labelFont\": \"Arial\", \"labelFontSize\": 16}, \"title\": {\"align\": \"center\", \"baseline\": \"middle\", \"color\": \"rgb(117,117,117)\", \"font\": \"Arial\", \"fontSize\": 20, \"fontWeight\": \"bold\"}}, \"layer\": [{\"data\": {\"name\": \"data-350ed79bf9771e86190a53803c45c7fa\"}, \"mark\": {\"type\": \"rule\", \"stroke\": \"rgb(117,117,117)\", \"strokeWidth\": 1.25, \"tooltip\": \"\"}, \"encoding\": {\"x\": {\"type\": \"quantitative\", \"field\": \"x\", \"scale\": {\"domain\": [-2, 2], \"range\": [40.0, 760.0]}}, \"x2\": {\"field\": \"x2\"}, \"y\": {\"type\": \"nominal\", \"axis\": {\"domain\": false, \"labelAngle\": 0, \"labelPadding\": -30, \"orient\": \"left\", \"ticks\": false, \"title\": \"\"}, \"field\": \"metric\", \"scale\": {\"domain\": [\"PRECISION\", \"FOR\"], \"range\": [40.0, 360.0]}}}}, {\"data\": {\"name\": \"data-79dd248bdaa0ea02c535240e8ad022c8\"}, \"mark\": {\"type\": \"rule\", \"stroke\": \"rgb(117,117,117)\", \"strokeDash\": [5, 5], \"strokeWidth\": 1}, \"encoding\": {\"tooltip\": {\"value\": \"Age 18-30 [REF]\"}, \"x\": {\"value\": 400.0}, \"y\": {\"value\": 33.333333333333336}, \"y2\": {\"value\": 366.66666666666663}}}, {\"data\": {\"name\": \"data-c233327f4cd9b4c2df31bf8015c83e4a\"}, \"mark\": {\"type\": \"text\", \"align\": \"center\", \"color\": \"rgb(117,117,117)\", \"font\": \"Arial\", \"fontSize\": 12, \"fontWeight\": \"normal\", \"tooltip\": \"\"}, \"encoding\": {\"text\": {\"type\": \"nominal\", \"field\": \"label\"}, \"x\": {\"type\": \"quantitative\", \"field\": \"value\", \"scale\": {\"domain\": [-2, 2], \"range\": [40.0, 760.0]}}, \"y\": {\"value\": 28.0}}}, {\"layer\": [{\"mark\": {\"type\": \"text\", \"align\": \"left\", \"fill\": \"rgb(117,117,117)\", \"font\": \"Arial\", \"fontSize\": 12, \"fontWeight\": \"normal\", \"tooltip\": \"\"}, \"encoding\": {\"text\": {\"value\": \"Times Smaller\"}, \"x\": {\"value\": 40.0}, \"y\": {\"value\": 12.0}}}, {\"mark\": {\"type\": \"text\", \"align\": \"right\", \"fill\": \"rgb(117,117,117)\", \"font\": \"Arial\", \"fontSize\": 12, \"fontWeight\": \"normal\", \"tooltip\": \"\"}, \"encoding\": {\"text\": {\"value\": \"Times Larger\"}, \"x\": {\"value\": 760.0}, \"y\": {\"value\": 12.0}}}, {\"mark\": {\"type\": \"text\", \"align\": \"center\", \"fill\": \"rgb(117,117,117)\", \"font\": \"Arial\", \"fontSize\": 12, \"fontWeight\": \"normal\", \"tooltip\": \"\"}, \"encoding\": {\"text\": {\"value\": \"Equal\"}, \"x\": {\"value\": 400.0}, \"y\": {\"value\": 12.0}}}], \"data\": {\"name\": \"data-79dd248bdaa0ea02c535240e8ad022c8\"}}, {\"layer\": [{\"mark\": {\"type\": \"rule\", \"opacity\": 0.8, \"stroke\": \"rgb(217, 46, 28)\", \"strokeWidth\": 1.25, \"tooltip\": \"\"}, \"encoding\": {\"x\": {\"type\": \"quantitative\", \"field\": \"min\", \"scale\": {\"domain\": [-2, 2], \"range\": [40.0, 760.0]}}, \"y\": {\"value\": 40.0}, \"y2\": {\"value\": 360.0}}}, {\"mark\": {\"type\": \"rule\", \"opacity\": 0.8, \"stroke\": \"rgb(217, 46, 28)\", \"strokeWidth\": 1.25, \"tooltip\": \"\"}, \"encoding\": {\"x\": {\"type\": \"quantitative\", \"field\": \"max\", \"scale\": {\"domain\": [-2, 2], \"range\": [40.0, 760.0]}}, \"y\": {\"value\": 40.0}, \"y2\": {\"value\": 360.0}}}, {\"layer\": [{\"mark\": {\"type\": \"rect\", \"fill\": \"rgb(217, 46, 28)\", \"opacity\": 0.1, \"tooltip\": \"\"}, \"encoding\": {\"x\": {\"type\": \"quantitative\", \"field\": \"min\", \"scale\": {\"domain\": [-2, 2], \"range\": [40.0, 760.0]}}, \"x2\": {\"field\": \"lower_end\"}, \"y\": {\"value\": 40.0}, \"y2\": {\"value\": 360.0}}}, {\"mark\": {\"type\": \"rect\", \"fill\": \"rgb(217, 46, 28)\", \"opacity\": 0.1, \"tooltip\": \"\"}, \"encoding\": {\"x\": {\"type\": \"quantitative\", \"field\": \"max\", \"scale\": {\"domain\": [-2, 2], \"range\": [40.0, 760.0]}}, \"x2\": {\"field\": \"upper_end\"}, \"y\": {\"value\": 40.0}, \"y2\": {\"value\": 360.0}}}]}, {\"data\": {\"name\": \"data-79dd248bdaa0ea02c535240e8ad022c8\"}, \"mark\": {\"type\": \"text\", \"align\": \"left\", \"baseline\": \"top\", \"fill\": \"rgb(217, 46, 28)\", \"font\": \"Arial\", \"fontSize\": 12, \"fontWeight\": \"normal\", \"tooltip\": \"\"}, \"encoding\": {\"text\": {\"value\": \"The metric value for any group should not be 1.25 (or more) times smaller or larger than that of the reference group Age 18-30.\"}, \"x\": {\"value\": 0}, \"y\": {\"value\": 373.3333333333333}}}], \"data\": {\"name\": \"data-feb20f5d4dfe62687617135ffee93d46\"}}, {\"layer\": [{\"mark\": \"circle\"}, {\"data\": {\"name\": \"data-401771e89d39dae5f8bc5a8db94c6a03\"}, \"mark\": {\"type\": \"circle\", \"opacity\": 0.2}, \"encoding\": {\"color\": {\"condition\": {\"type\": \"nominal\", \"field\": \"attribute_value\", \"legend\": null, \"scale\": {\"domain\": [\"Age 18-30\", \"Age 0-18\", \"Age 30-50\", \"Age 50-100\"], \"range\": [\"rgb(117,117,117)\", \"rgb(100, 143, 255)\", \"rgb(254, 97, 0)\", \"rgb(220, 38, 127)\", \"rgb(255, 176, 0)\", \"rgb(120, 94, 240)\"]}, \"selection\": \"selector043\"}, \"value\": \"rgb(224,224,224)\"}, \"size\": {\"type\": \"quantitative\", \"field\": \"group_size\", \"legend\": null, \"scale\": {\"domain\": [0, 2082.0], \"range\": [0, 5026.548245743669]}}, \"tooltip\": [{\"type\": \"nominal\", \"field\": \"attribute_value\", \"title\": \"Group\"}, {\"type\": \"nominal\", \"field\": \"tooltip_group_size\", \"title\": \"Group Size\"}, {\"type\": \"nominal\", \"field\": \"tooltip_disparity_explanation_precision\", \"title\": \"Disparity\"}, {\"type\": \"quantitative\", \"field\": \"precision\", \"format\": \".2f\", \"title\": \"PRECISION\"}], \"x\": {\"type\": \"quantitative\", \"axis\": {\"domain\": false, \"labels\": false, \"ticks\": false, \"title\": null, \"values\": [1, 2, -2, -1]}, \"field\": \"precision_disparity_scaled\", \"scale\": {\"domain\": [-2, 2], \"range\": [40.0, 760.0]}}, \"y\": {\"type\": \"nominal\", \"axis\": {\"domain\": false, \"grid\": false, \"labels\": false, \"ticks\": false, \"title\": \" \"}, \"field\": \"metric_variable\", \"scale\": {\"domain\": [\"PRECISION\", \"FOR\"], \"range\": [40.0, 360.0]}}}, \"selection\": {\"selector045\": {\"type\": \"multi\", \"empty\": \"all\", \"fields\": [\"attribute_value\"]}}, \"transform\": [{\"calculate\": \"'PRECISION'\", \"as\": \"metric_variable\"}]}, {\"data\": {\"name\": \"data-401771e89d39dae5f8bc5a8db94c6a03\"}, \"mark\": {\"type\": \"circle\", \"opacity\": 0.2}, \"encoding\": {\"color\": {\"condition\": {\"type\": \"nominal\", \"field\": \"attribute_value\", \"legend\": null, \"scale\": {\"domain\": [\"Age 18-30\", \"Age 0-18\", \"Age 30-50\", \"Age 50-100\"], \"range\": [\"rgb(117,117,117)\", \"rgb(100, 143, 255)\", \"rgb(254, 97, 0)\", \"rgb(220, 38, 127)\", \"rgb(255, 176, 0)\", \"rgb(120, 94, 240)\"]}, \"selection\": \"selector043\"}, \"value\": \"rgb(224,224,224)\"}, \"size\": {\"type\": \"quantitative\", \"field\": \"group_size\", \"legend\": null, \"scale\": {\"domain\": [0, 2082.0], \"range\": [0, 5026.548245743669]}}, \"tooltip\": [{\"type\": \"nominal\", \"field\": \"attribute_value\", \"title\": \"Group\"}, {\"type\": \"nominal\", \"field\": \"tooltip_group_size\", \"title\": \"Group Size\"}, {\"type\": \"nominal\", \"field\": \"tooltip_disparity_explanation_for\", \"title\": \"Disparity\"}, {\"type\": \"quantitative\", \"field\": \"for\", \"format\": \".2f\", \"title\": \"FOR\"}], \"x\": {\"type\": \"quantitative\", \"axis\": {\"domain\": false, \"labels\": false, \"ticks\": false, \"title\": null, \"values\": [1, 2, -2, -1]}, \"field\": \"for_disparity_scaled\", \"scale\": {\"domain\": [-2, 2], \"range\": [40.0, 760.0]}}, \"y\": {\"type\": \"nominal\", \"axis\": {\"domain\": false, \"grid\": false, \"labels\": false, \"ticks\": false, \"title\": \" \"}, \"field\": \"metric_variable\", \"scale\": {\"domain\": [\"PRECISION\", \"FOR\"], \"range\": [40.0, 360.0]}}}, \"selection\": {\"selector047\": {\"type\": \"multi\", \"empty\": \"all\", \"fields\": [\"attribute_value\"]}}, \"transform\": [{\"calculate\": \"'FOR'\", \"as\": \"metric_variable\"}]}, {\"layer\": [{\"mark\": \"point\"}, {\"data\": {\"name\": \"data-401771e89d39dae5f8bc5a8db94c6a03\"}, \"mark\": {\"type\": \"point\", \"filled\": true, \"size\": 60}, \"encoding\": {\"color\": {\"condition\": {\"type\": \"nominal\", \"field\": \"attribute_value\", \"legend\": null, \"scale\": {\"domain\": [\"Age 18-30\", \"Age 0-18\", \"Age 30-50\", \"Age 50-100\"], \"range\": [\"rgb(117,117,117)\", \"rgb(100, 143, 255)\", \"rgb(254, 97, 0)\", \"rgb(220, 38, 127)\", \"rgb(255, 176, 0)\", \"rgb(120, 94, 240)\"]}, \"selection\": \"selector043\"}, \"value\": \"rgb(224,224,224)\"}, \"shape\": {\"type\": \"nominal\", \"field\": \"attribute_value\", \"legend\": null, \"scale\": {\"domain\": [\"Age 18-30\", \"Age 0-18\", \"Age 30-50\", \"Age 50-100\"], \"range\": [\"cross\", \"circle\", \"circle\", \"circle\"]}}, \"tooltip\": [{\"type\": \"nominal\", \"field\": \"attribute_value\", \"title\": \"Group\"}, {\"type\": \"nominal\", \"field\": \"tooltip_group_size\", \"title\": \"Group Size\"}, {\"type\": \"nominal\", \"field\": \"tooltip_disparity_explanation_precision\", \"title\": \"Disparity\"}, {\"type\": \"quantitative\", \"field\": \"precision\", \"format\": \".2f\", \"title\": \"PRECISION\"}], \"x\": {\"type\": \"quantitative\", \"axis\": {\"domain\": false, \"labels\": false, \"ticks\": false, \"title\": null, \"values\": [1, 2, -2, -1]}, \"field\": \"precision_disparity_scaled\", \"scale\": {\"domain\": [-2, 2], \"range\": [40.0, 760.0]}}, \"y\": {\"type\": \"nominal\", \"axis\": {\"domain\": false, \"grid\": false, \"labels\": false, \"ticks\": false, \"title\": \" \"}, \"field\": \"metric_variable\", \"scale\": {\"domain\": [\"PRECISION\", \"FOR\"], \"range\": [40.0, 360.0]}}}, \"selection\": {\"selector044\": {\"type\": \"multi\", \"empty\": \"all\", \"fields\": [\"attribute_value\"]}}, \"transform\": [{\"calculate\": \"'PRECISION'\", \"as\": \"metric_variable\"}]}, {\"data\": {\"name\": \"data-401771e89d39dae5f8bc5a8db94c6a03\"}, \"mark\": {\"type\": \"point\", \"filled\": true, \"size\": 60}, \"encoding\": {\"color\": {\"condition\": {\"type\": \"nominal\", \"field\": \"attribute_value\", \"legend\": null, \"scale\": {\"domain\": [\"Age 18-30\", \"Age 0-18\", \"Age 30-50\", \"Age 50-100\"], \"range\": [\"rgb(117,117,117)\", \"rgb(100, 143, 255)\", \"rgb(254, 97, 0)\", \"rgb(220, 38, 127)\", \"rgb(255, 176, 0)\", \"rgb(120, 94, 240)\"]}, \"selection\": \"selector043\"}, \"value\": \"rgb(224,224,224)\"}, \"shape\": {\"type\": \"nominal\", \"field\": \"attribute_value\", \"legend\": null, \"scale\": {\"domain\": [\"Age 18-30\", \"Age 0-18\", \"Age 30-50\", \"Age 50-100\"], \"range\": [\"cross\", \"circle\", \"circle\", \"circle\"]}}, \"tooltip\": [{\"type\": \"nominal\", \"field\": \"attribute_value\", \"title\": \"Group\"}, {\"type\": \"nominal\", \"field\": \"tooltip_group_size\", \"title\": \"Group Size\"}, {\"type\": \"nominal\", \"field\": \"tooltip_disparity_explanation_for\", \"title\": \"Disparity\"}, {\"type\": \"quantitative\", \"field\": \"for\", \"format\": \".2f\", \"title\": \"FOR\"}], \"x\": {\"type\": \"quantitative\", \"axis\": {\"domain\": false, \"labels\": false, \"ticks\": false, \"title\": null, \"values\": [1, 2, -2, -1]}, \"field\": \"for_disparity_scaled\", \"scale\": {\"domain\": [-2, 2], \"range\": [40.0, 760.0]}}, \"y\": {\"type\": \"nominal\", \"axis\": {\"domain\": false, \"grid\": false, \"labels\": false, \"ticks\": false, \"title\": \" \"}, \"field\": \"metric_variable\", \"scale\": {\"domain\": [\"PRECISION\", \"FOR\"], \"range\": [40.0, 360.0]}}}, \"selection\": {\"selector046\": {\"type\": \"multi\", \"empty\": \"all\", \"fields\": [\"attribute_value\"]}}, \"transform\": [{\"calculate\": \"'FOR'\", \"as\": \"metric_variable\"}]}]}]}, {\"layer\": [{\"mark\": {\"type\": \"point\", \"filled\": true, \"opacity\": 1, \"size\": 39.47841760435743}, \"encoding\": {\"color\": {\"condition\": {\"type\": \"nominal\", \"field\": \"attribute_value\", \"legend\": null, \"scale\": {\"domain\": [\"Age 18-30\", \"Age 0-18\", \"Age 30-50\", \"Age 50-100\"], \"range\": [\"rgb(117,117,117)\", \"rgb(100, 143, 255)\", \"rgb(254, 97, 0)\", \"rgb(220, 38, 127)\", \"rgb(255, 176, 0)\", \"rgb(120, 94, 240)\"]}, \"selection\": \"selector043\"}, \"value\": \"rgb(224,224,224)\"}, \"shape\": {\"type\": \"nominal\", \"field\": \"attribute_value\", \"legend\": null, \"scale\": {\"domain\": [\"Age 18-30\", \"Age 0-18\", \"Age 30-50\", \"Age 50-100\"], \"range\": [\"cross\", \"circle\", \"circle\", \"circle\"]}}, \"x\": {\"value\": 804}, \"y\": {\"type\": \"nominal\", \"axis\": {\"domain\": false, \"grid\": false, \"labels\": false, \"ticks\": false, \"title\": \" \"}, \"field\": \"attribute_value\", \"scale\": {\"domain\": [\"Age 18-30\", \"Age 0-18\", \"Age 30-50\", \"Age 50-100\"], \"range\": [71, 169]}}}, \"selection\": {\"selector043\": {\"type\": \"multi\", \"empty\": \"all\", \"fields\": [\"attribute_value\"]}}}, {\"mark\": {\"type\": \"text\", \"align\": \"left\", \"baseline\": \"middle\", \"font\": \"Arial\", \"fontSize\": 12, \"fontWeight\": \"normal\"}, \"encoding\": {\"color\": {\"condition\": {\"type\": \"nominal\", \"field\": \"attribute_value\", \"legend\": null, \"scale\": {\"domain\": [\"Age 18-30\", \"Age 0-18\", \"Age 30-50\", \"Age 50-100\"], \"range\": [\"rgb(117,117,117)\", \"rgb(100, 143, 255)\", \"rgb(254, 97, 0)\", \"rgb(220, 38, 127)\", \"rgb(255, 176, 0)\", \"rgb(120, 94, 240)\"]}, \"selection\": \"selector043\"}, \"value\": \"rgb(224,224,224)\"}, \"text\": {\"type\": \"nominal\", \"field\": \"label\"}, \"x\": {\"value\": 812}, \"y\": {\"type\": \"nominal\", \"axis\": {\"domain\": false, \"grid\": false, \"labels\": false, \"ticks\": false, \"title\": \" \"}, \"field\": \"attribute_value\", \"scale\": {\"domain\": [\"Age 18-30\", \"Age 0-18\", \"Age 30-50\", \"Age 50-100\"], \"range\": [71, 169]}}}, \"selection\": {\"selector048\": {\"type\": \"multi\", \"empty\": \"all\", \"fields\": [\"attribute_value\"]}}}, {\"data\": {\"name\": \"data-79dd248bdaa0ea02c535240e8ad022c8\"}, \"mark\": {\"type\": \"text\", \"align\": \"left\", \"baseline\": \"middle\", \"color\": \"rgb(117,117,117)\", \"font\": \"Arial\", \"fontSize\": 12, \"fontWeight\": \"normal\"}, \"encoding\": {\"text\": {\"value\": \"Click to highlight a group.\"}, \"x\": {\"value\": 800}, \"y\": {\"value\": 49}}}, {\"data\": {\"name\": \"data-79dd248bdaa0ea02c535240e8ad022c8\"}, \"mark\": {\"type\": \"text\", \"align\": \"left\", \"baseline\": \"middle\", \"color\": \"rgb(117,117,117)\", \"font\": \"Arial\", \"fontSize\": 14, \"fontWeight\": \"normal\"}, \"encoding\": {\"text\": {\"value\": \"Groups\"}, \"x\": {\"value\": 800}, \"y\": {\"value\": 30}}}], \"data\": {\"name\": \"data-150214d23ebd3e83c95cc487609fb601\"}}], \"height\": 400, \"padding\": {\"top\": 15, \"bottom\": 10}, \"resolve\": {\"scale\": {\"size\": \"independent\", \"y\": \"independent\"}}, \"title\": \"Disparities on Age Group\", \"width\": 800, \"$schema\": \"https://vega.github.io/schema/vega-lite/v4.8.1.json\", \"datasets\": {\"data-350ed79bf9771e86190a53803c45c7fa\": [{\"metric\": \"PRECISION\", \"x\": -2, \"x2\": 2}, {\"metric\": \"FOR\", \"x\": -2, \"x2\": 2}], \"data-79dd248bdaa0ea02c535240e8ad022c8\": [{\"a\": 1, \"b\": 0}, {\"a\": 1, \"b\": 0}], \"data-c233327f4cd9b4c2df31bf8015c83e4a\": [{\"value\": 1, \"label\": 2}, {\"value\": 2, \"label\": 3}, {\"value\": -2, \"label\": 3}, {\"value\": -1, \"label\": 2}, {\"value\": 0, \"label\": \"=\"}], \"data-feb20f5d4dfe62687617135ffee93d46\": [{\"min\": -0.25, \"max\": 0.25, \"lower_end\": -2, \"upper_end\": 2}], \"data-401771e89d39dae5f8bc5a8db94c6a03\": [{\"attribute_name\": \"Age Group\", \"attribute_value\": \"Age 0-18\", \"group_size\": 201, \"total_entities\": 4000, \"precision\": 0.6187050359712231, \"for\": 0.3870967741935484, \"precision_disparity\": 0.8416055034760072, \"for_disparity\": 1.0138248847926266, \"precision_disparity_scaled\": -0.18820515772507473, \"for_disparity_scaled\": 0.013824884792626557, \"tooltip_group_size\": \"201 (5.03%)\", \"tooltip_disparity_explanation_precision\": \"1.19 times smaller PRECISION than the reference group\", \"tooltip_disparity_explanation_for\": \"1.01 times larger FOR than the reference group\"}, {\"attribute_name\": \"Age Group\", \"attribute_value\": \"Age 18-30\", \"group_size\": 569, \"total_entities\": 4000, \"precision\": 0.7351485148514851, \"for\": 0.38181818181818183, \"precision_disparity\": 1.0, \"for_disparity\": 1.0, \"precision_disparity_scaled\": 0.0, \"for_disparity_scaled\": 0.0, \"tooltip_group_size\": \"569 (14.22%)\", \"tooltip_disparity_explanation_precision\": \"Reference group\", \"tooltip_disparity_explanation_for\": \"Reference group\"}, {\"attribute_name\": \"Age Group\", \"attribute_value\": \"Age 30-50\", \"group_size\": 1495, \"total_entities\": 4000, \"precision\": 0.6993006993006993, \"for\": 0.38461538461538464, \"precision_disparity\": 0.9512373148736785, \"for_disparity\": 1.0073260073260073, \"precision_disparity_scaled\": -0.05126237623762386, \"for_disparity_scaled\": 0.0073260073260073, \"tooltip_group_size\": \"1,495 (37.38%)\", \"tooltip_disparity_explanation_precision\": \"1.05 times smaller PRECISION than the reference group\", \"tooltip_disparity_explanation_for\": \"1.01 times larger FOR than the reference group\"}, {\"attribute_name\": \"Age Group\", \"attribute_value\": \"Age 50-100\", \"group_size\": 1735, \"total_entities\": 4000, \"precision\": 0.6358208955223881, \"for\": 0.3863013698630137, \"precision_disparity\": 0.8648876827981306, \"for_disparity\": 1.0117416829745598, \"precision_disparity_scaled\": -0.1562194951889555, \"for_disparity_scaled\": 0.011741682974559797, \"tooltip_group_size\": \"1,735 (43.38%)\", \"tooltip_disparity_explanation_precision\": \"1.16 times smaller PRECISION than the reference group\", \"tooltip_disparity_explanation_for\": \"1.01 times larger FOR than the reference group\"}], \"data-150214d23ebd3e83c95cc487609fb601\": [{\"attribute_value\": \"Age 18-30\", \"label\": \"Age 18-30 [REF]\"}, {\"attribute_value\": \"Age 0-18\", \"label\": \"Age 0-18\"}, {\"attribute_value\": \"Age 30-50\", \"label\": \"Age 30-50\"}, {\"attribute_value\": \"Age 50-100\", \"label\": \"Age 50-100\"}]}}, {\"mode\": \"vega-lite\"});\n",
              "</script>"
            ],
            "text/plain": [
              "alt.LayerChart(...)"
            ]
          },
          "metadata": {},
          "execution_count": 112
        }
      ]
    }
  ],
  "metadata": {
    "colab": {
      "provenance": []
    },
    "kernelspec": {
      "display_name": "Python 3",
      "name": "python3"
    },
    "language_info": {
      "name": "python"
    }
  },
  "nbformat": 4,
  "nbformat_minor": 0
}